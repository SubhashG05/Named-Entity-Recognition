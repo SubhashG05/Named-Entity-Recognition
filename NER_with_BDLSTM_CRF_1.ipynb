{
  "nbformat": 4,
  "nbformat_minor": 0,
  "metadata": {
    "accelerator": "GPU",
    "colab": {
      "name": "NER_with_BDLSTM_CRF_1.ipynb",
      "provenance": [],
      "collapsed_sections": [],
      "toc_visible": true
    },
    "kernelspec": {
      "display_name": "Python 3",
      "name": "python3"
    }
  },
  "cells": [
    {
      "cell_type": "markdown",
      "metadata": {
        "id": "_j3FecQzEXpO"
      },
      "source": [
        "#Importing Libraries"
      ]
    },
    {
      "cell_type": "code",
      "metadata": {
        "id": "-IbBTk8ZtneZ",
        "outputId": "3dbaa615-8da8-474c-fc02-5360276573b6",
        "colab": {
          "base_uri": "https://localhost:8080/"
        }
      },
      "source": [
        "#Install packages required\n",
        "!pip -qqq install gensim\n",
        "!pip -qqq install git+https://www.github.com/keras-team/keras-contrib.git\n",
        "!pip -qqq install --upgrade keras==2.2.4\n",
        "!pip install sklearn-crfsuite\n",
        "!pip -q install seqeval\n",
        "!pip -q install tensorflow==1.13.0rc0"
      ],
      "execution_count": 36,
      "outputs": [
        {
          "output_type": "stream",
          "text": [
            "  Building wheel for keras-contrib (setup.py) ... \u001b[?25l\u001b[?25hdone\n",
            "Requirement already satisfied: sklearn-crfsuite in /usr/local/lib/python3.6/dist-packages (0.3.6)\n",
            "Requirement already satisfied: tabulate in /usr/local/lib/python3.6/dist-packages (from sklearn-crfsuite) (0.8.7)\n",
            "Requirement already satisfied: tqdm>=2.0 in /usr/local/lib/python3.6/dist-packages (from sklearn-crfsuite) (4.41.1)\n",
            "Requirement already satisfied: six in /usr/local/lib/python3.6/dist-packages (from sklearn-crfsuite) (1.15.0)\n",
            "Requirement already satisfied: python-crfsuite>=0.8.3 in /usr/local/lib/python3.6/dist-packages (from sklearn-crfsuite) (0.9.7)\n"
          ],
          "name": "stdout"
        }
      ]
    },
    {
      "cell_type": "code",
      "metadata": {
        "id": "oV4syUpsLw8k"
      },
      "source": [
        "#Import required packages\n",
        "import pandas as pd\n",
        "import numpy as np\n",
        "import json\n",
        "import pickle\n",
        "import warnings\n",
        "warnings.filterwarnings(\"ignore\")\n",
        "import matplotlib.pyplot as plt\n",
        "%matplotlib inline\n",
        "\n",
        "from keras                        import backend as K    # from tensorflow import keras as K\n",
        "from keras.preprocessing.sequence import pad_sequences\n",
        "from keras.utils                  import to_categorical, plot_model\n",
        "from keras.layers                 import LSTM, Dense, TimeDistributed, Embedding, Bidirectional\n",
        "from keras.models                 import Model, Input\n",
        "from keras_contrib.layers         import CRF\n",
        "from keras.callbacks              import ModelCheckpoint\n",
        "from sklearn.model_selection      import train_test_split\n",
        "from sklearn_crfsuite.metrics     import flat_classification_report\n",
        "from sklearn.metrics              import f1_score\n",
        "from seqeval.metrics              import precision_score, recall_score, f1_score, classification_report\n",
        "from keras.preprocessing.text     import text_to_word_sequence\n"
      ],
      "execution_count": 70,
      "outputs": []
    },
    {
      "cell_type": "code",
      "metadata": {
        "id": "GBs98vtoDHdw",
        "outputId": "842a10fb-9ffb-4d6d-92d6-a63e5a00dccd",
        "colab": {
          "base_uri": "https://localhost:8080/"
        }
      },
      "source": [
        "#Download data from Kaggle\n",
        "!mkdir ~/.kaggle\n",
        "token = {\"username\":\"gugankailasam\",\"key\":\"7be55bcc2396ad6d025f6b7e2b3b53b0\"}\n",
        "\n",
        "with open('kaggle.json','w') as file:\n",
        "  json.dump(token,file)\n",
        "\n",
        "!cp ./kaggle.json ~/.kaggle/kaggle.json\n",
        "!chmod 600 /root/.kaggle/kaggle.json\n",
        "!kaggle datasets download -d abhinavwalia95/entity-annotated-corpus\n",
        "import zipfile\n",
        "with zipfile.ZipFile(\"entity-annotated-corpus.zip\",\"r\") as zip_ref:\n",
        "    zip_ref.extractall(\"data\")\n",
        "!ls"
      ],
      "execution_count": 38,
      "outputs": [
        {
          "output_type": "stream",
          "text": [
            "mkdir: cannot create directory ‘/root/.kaggle’: File exists\n",
            "entity-annotated-corpus.zip: Skipping, found more recently modified local copy (use --force to force download)\n",
            "data\t\t\t     kaggle.json  model.png\n",
            "entity-annotated-corpus.zip  model.h5\t  sample_data\n"
          ],
          "name": "stdout"
        }
      ]
    },
    {
      "cell_type": "code",
      "metadata": {
        "id": "PzyCmyKWrTH8",
        "outputId": "39b2185d-bb0e-4bd0-d436-5783ffdf600f",
        "colab": {
          "base_uri": "https://localhost:8080/",
          "height": 359
        }
      },
      "source": [
        "df = pd.read_csv('/content/data/ner_dataset.csv', encoding= 'unicode_escape')#data//ner_dataset.csv\n",
        "df.head(10)"
      ],
      "execution_count": 39,
      "outputs": [
        {
          "output_type": "execute_result",
          "data": {
            "text/html": [
              "<div>\n",
              "<style scoped>\n",
              "    .dataframe tbody tr th:only-of-type {\n",
              "        vertical-align: middle;\n",
              "    }\n",
              "\n",
              "    .dataframe tbody tr th {\n",
              "        vertical-align: top;\n",
              "    }\n",
              "\n",
              "    .dataframe thead th {\n",
              "        text-align: right;\n",
              "    }\n",
              "</style>\n",
              "<table border=\"1\" class=\"dataframe\">\n",
              "  <thead>\n",
              "    <tr style=\"text-align: right;\">\n",
              "      <th></th>\n",
              "      <th>Sentence #</th>\n",
              "      <th>Word</th>\n",
              "      <th>POS</th>\n",
              "      <th>Tag</th>\n",
              "    </tr>\n",
              "  </thead>\n",
              "  <tbody>\n",
              "    <tr>\n",
              "      <th>0</th>\n",
              "      <td>Sentence: 1</td>\n",
              "      <td>Thousands</td>\n",
              "      <td>NNS</td>\n",
              "      <td>O</td>\n",
              "    </tr>\n",
              "    <tr>\n",
              "      <th>1</th>\n",
              "      <td>NaN</td>\n",
              "      <td>of</td>\n",
              "      <td>IN</td>\n",
              "      <td>O</td>\n",
              "    </tr>\n",
              "    <tr>\n",
              "      <th>2</th>\n",
              "      <td>NaN</td>\n",
              "      <td>demonstrators</td>\n",
              "      <td>NNS</td>\n",
              "      <td>O</td>\n",
              "    </tr>\n",
              "    <tr>\n",
              "      <th>3</th>\n",
              "      <td>NaN</td>\n",
              "      <td>have</td>\n",
              "      <td>VBP</td>\n",
              "      <td>O</td>\n",
              "    </tr>\n",
              "    <tr>\n",
              "      <th>4</th>\n",
              "      <td>NaN</td>\n",
              "      <td>marched</td>\n",
              "      <td>VBN</td>\n",
              "      <td>O</td>\n",
              "    </tr>\n",
              "    <tr>\n",
              "      <th>5</th>\n",
              "      <td>NaN</td>\n",
              "      <td>through</td>\n",
              "      <td>IN</td>\n",
              "      <td>O</td>\n",
              "    </tr>\n",
              "    <tr>\n",
              "      <th>6</th>\n",
              "      <td>NaN</td>\n",
              "      <td>London</td>\n",
              "      <td>NNP</td>\n",
              "      <td>B-geo</td>\n",
              "    </tr>\n",
              "    <tr>\n",
              "      <th>7</th>\n",
              "      <td>NaN</td>\n",
              "      <td>to</td>\n",
              "      <td>TO</td>\n",
              "      <td>O</td>\n",
              "    </tr>\n",
              "    <tr>\n",
              "      <th>8</th>\n",
              "      <td>NaN</td>\n",
              "      <td>protest</td>\n",
              "      <td>VB</td>\n",
              "      <td>O</td>\n",
              "    </tr>\n",
              "    <tr>\n",
              "      <th>9</th>\n",
              "      <td>NaN</td>\n",
              "      <td>the</td>\n",
              "      <td>DT</td>\n",
              "      <td>O</td>\n",
              "    </tr>\n",
              "  </tbody>\n",
              "</table>\n",
              "</div>"
            ],
            "text/plain": [
              "    Sentence #           Word  POS    Tag\n",
              "0  Sentence: 1      Thousands  NNS      O\n",
              "1          NaN             of   IN      O\n",
              "2          NaN  demonstrators  NNS      O\n",
              "3          NaN           have  VBP      O\n",
              "4          NaN        marched  VBN      O\n",
              "5          NaN        through   IN      O\n",
              "6          NaN         London  NNP  B-geo\n",
              "7          NaN             to   TO      O\n",
              "8          NaN        protest   VB      O\n",
              "9          NaN            the   DT      O"
            ]
          },
          "metadata": {
            "tags": []
          },
          "execution_count": 39
        }
      ]
    },
    {
      "cell_type": "code",
      "metadata": {
        "id": "MNEBdJL5rTpc",
        "outputId": "7d43aab1-24ed-494b-8538-e97232c7f9b2",
        "colab": {
          "base_uri": "https://localhost:8080/",
          "height": 173
        }
      },
      "source": [
        "df.describe()"
      ],
      "execution_count": 40,
      "outputs": [
        {
          "output_type": "execute_result",
          "data": {
            "text/html": [
              "<div>\n",
              "<style scoped>\n",
              "    .dataframe tbody tr th:only-of-type {\n",
              "        vertical-align: middle;\n",
              "    }\n",
              "\n",
              "    .dataframe tbody tr th {\n",
              "        vertical-align: top;\n",
              "    }\n",
              "\n",
              "    .dataframe thead th {\n",
              "        text-align: right;\n",
              "    }\n",
              "</style>\n",
              "<table border=\"1\" class=\"dataframe\">\n",
              "  <thead>\n",
              "    <tr style=\"text-align: right;\">\n",
              "      <th></th>\n",
              "      <th>Sentence #</th>\n",
              "      <th>Word</th>\n",
              "      <th>POS</th>\n",
              "      <th>Tag</th>\n",
              "    </tr>\n",
              "  </thead>\n",
              "  <tbody>\n",
              "    <tr>\n",
              "      <th>count</th>\n",
              "      <td>47959</td>\n",
              "      <td>1048575</td>\n",
              "      <td>1048575</td>\n",
              "      <td>1048575</td>\n",
              "    </tr>\n",
              "    <tr>\n",
              "      <th>unique</th>\n",
              "      <td>47959</td>\n",
              "      <td>35178</td>\n",
              "      <td>42</td>\n",
              "      <td>17</td>\n",
              "    </tr>\n",
              "    <tr>\n",
              "      <th>top</th>\n",
              "      <td>Sentence: 35231</td>\n",
              "      <td>the</td>\n",
              "      <td>NN</td>\n",
              "      <td>O</td>\n",
              "    </tr>\n",
              "    <tr>\n",
              "      <th>freq</th>\n",
              "      <td>1</td>\n",
              "      <td>52573</td>\n",
              "      <td>145807</td>\n",
              "      <td>887908</td>\n",
              "    </tr>\n",
              "  </tbody>\n",
              "</table>\n",
              "</div>"
            ],
            "text/plain": [
              "             Sentence #     Word      POS      Tag\n",
              "count             47959  1048575  1048575  1048575\n",
              "unique            47959    35178       42       17\n",
              "top     Sentence: 35231      the       NN        O\n",
              "freq                  1    52573   145807   887908"
            ]
          },
          "metadata": {
            "tags": []
          },
          "execution_count": 40
        }
      ]
    },
    {
      "cell_type": "markdown",
      "metadata": {
        "id": "puM73bZQEjVA"
      },
      "source": [
        "#Observations :"
      ]
    },
    {
      "cell_type": "code",
      "metadata": {
        "id": "NCMgUTla-Xwd",
        "outputId": "93375bd1-c7dd-4f5d-bf4f-d98cc4bb7b43",
        "colab": {
          "base_uri": "https://localhost:8080/"
        }
      },
      "source": [
        "#Displaying the unique Tags\n",
        "df['Tag'].unique()"
      ],
      "execution_count": 41,
      "outputs": [
        {
          "output_type": "execute_result",
          "data": {
            "text/plain": [
              "array(['O', 'B-geo', 'B-gpe', 'B-per', 'I-geo', 'B-org', 'I-org', 'B-tim',\n",
              "       'B-art', 'I-art', 'I-per', 'I-gpe', 'I-tim', 'B-nat', 'B-eve',\n",
              "       'I-eve', 'I-nat'], dtype=object)"
            ]
          },
          "metadata": {
            "tags": []
          },
          "execution_count": 41
        }
      ]
    },
    {
      "cell_type": "code",
      "metadata": {
        "id": "PH_-7v4P-YIQ",
        "outputId": "1f67e1ff-f52f-4e4b-c050-664b922df110",
        "colab": {
          "base_uri": "https://localhost:8080/"
        }
      },
      "source": [
        "#Checking null values, if any.\n",
        "df.isnull().sum()"
      ],
      "execution_count": 42,
      "outputs": [
        {
          "output_type": "execute_result",
          "data": {
            "text/plain": [
              "Sentence #    1000616\n",
              "Word                0\n",
              "POS                 0\n",
              "Tag                 0\n",
              "dtype: int64"
            ]
          },
          "metadata": {
            "tags": []
          },
          "execution_count": 42
        }
      ]
    },
    {
      "cell_type": "code",
      "metadata": {
        "id": "Rfn2Z8pg-Yhc"
      },
      "source": [
        "df = df.fillna(method = 'ffill')"
      ],
      "execution_count": 43,
      "outputs": []
    },
    {
      "cell_type": "code",
      "metadata": {
        "id": "fmDdSrcMBc48"
      },
      "source": [
        "# This is a class that get sentence. The each sentence will be list of tuples with its tag and pos.\n",
        "class sentence(object):\n",
        "    def __init__(self, df):\n",
        "        self.n_sent = 1\n",
        "        self.df = df\n",
        "        self.empty = False\n",
        "        agg = lambda s : [(w, p, t) for w, p, t in zip(s['Word'].values.tolist(),\n",
        "                                                       s['POS'].values.tolist(),\n",
        "                                                       s['Tag'].values.tolist())]\n",
        "        self.grouped = self.df.groupby(\"Sentence #\").apply(agg)\n",
        "        self.sentences = [s for s in self.grouped]\n",
        "        \n",
        "    def get_text(self):\n",
        "        try:\n",
        "            s = self.grouped['Sentence: {}'.format(self.n_sent)]\n",
        "            self.n_sent +=1\n",
        "            return s\n",
        "        except:\n",
        "            return None"
      ],
      "execution_count": 44,
      "outputs": []
    },
    {
      "cell_type": "code",
      "metadata": {
        "id": "SxJ1mk8tBkth",
        "outputId": "30d4d009-ad8e-4660-b995-2e15114d3e84",
        "colab": {
          "base_uri": "https://localhost:8080/",
          "height": 52
        }
      },
      "source": [
        "#Displaying one full sentence\n",
        "getter = sentence(df)\n",
        "sentences = [\" \".join([s[0] for s in sent]) for sent in getter.sentences]\n",
        "sentences[0]"
      ],
      "execution_count": 45,
      "outputs": [
        {
          "output_type": "execute_result",
          "data": {
            "application/vnd.google.colaboratory.intrinsic+json": {
              "type": "string"
            },
            "text/plain": [
              "'Thousands of demonstrators have marched through London to protest the war in Iraq and demand the withdrawal of British troops from that country .'"
            ]
          },
          "metadata": {
            "tags": []
          },
          "execution_count": 45
        }
      ]
    },
    {
      "cell_type": "code",
      "metadata": {
        "id": "lWT7UmITBqxd",
        "outputId": "c79f1149-847e-477d-b323-2c7214226c11",
        "colab": {
          "base_uri": "https://localhost:8080/"
        }
      },
      "source": [
        "#sentence with its pos and tag.\n",
        "sent = getter.get_text()\n",
        "print(sent)"
      ],
      "execution_count": 46,
      "outputs": [
        {
          "output_type": "stream",
          "text": [
            "[('Thousands', 'NNS', 'O'), ('of', 'IN', 'O'), ('demonstrators', 'NNS', 'O'), ('have', 'VBP', 'O'), ('marched', 'VBN', 'O'), ('through', 'IN', 'O'), ('London', 'NNP', 'B-geo'), ('to', 'TO', 'O'), ('protest', 'VB', 'O'), ('the', 'DT', 'O'), ('war', 'NN', 'O'), ('in', 'IN', 'O'), ('Iraq', 'NNP', 'B-geo'), ('and', 'CC', 'O'), ('demand', 'VB', 'O'), ('the', 'DT', 'O'), ('withdrawal', 'NN', 'O'), ('of', 'IN', 'O'), ('British', 'JJ', 'B-gpe'), ('troops', 'NNS', 'O'), ('from', 'IN', 'O'), ('that', 'DT', 'O'), ('country', 'NN', 'O'), ('.', '.', 'O')]\n"
          ],
          "name": "stdout"
        }
      ]
    },
    {
      "cell_type": "code",
      "metadata": {
        "id": "wz7dLTx8By1o",
        "outputId": "b1e00583-d16e-4e76-8c57-98a6132496f4",
        "colab": {
          "base_uri": "https://localhost:8080/"
        }
      },
      "source": [
        "sentences = getter.sentences\n",
        "print(sentences)"
      ],
      "execution_count": 47,
      "outputs": [
        {
          "output_type": "stream",
          "text": [
            "IOPub data rate exceeded.\n",
            "The notebook server will temporarily stop sending output\n",
            "to the client in order to avoid crashing it.\n",
            "To change this limit, set the config variable\n",
            "`--NotebookApp.iopub_data_rate_limit`.\n",
            "\n",
            "Current values:\n",
            "NotebookApp.iopub_data_rate_limit=1000000.0 (bytes/sec)\n",
            "NotebookApp.rate_limit_window=3.0 (secs)\n",
            "\n"
          ],
          "name": "stderr"
        }
      ]
    },
    {
      "cell_type": "markdown",
      "metadata": {
        "id": "G8h4-31DB-Nz"
      },
      "source": [
        "#Defining the parameters for LSTM network"
      ]
    },
    {
      "cell_type": "code",
      "metadata": {
        "id": "ocnBVut9B5Ee"
      },
      "source": [
        "# Number of data points passed in each iteration\n",
        "batch_size = 64 \n",
        "# Passes through entire dataset\n",
        "epochs = 3\n",
        "# Maximum length of review\n",
        "max_len = 75 \n",
        "# Dimension of embedding vector\n",
        "embedding = 40"
      ],
      "execution_count": 48,
      "outputs": []
    },
    {
      "cell_type": "markdown",
      "metadata": {
        "id": "hAyw3xrcCFgh"
      },
      "source": [
        "#Preprocessing Data"
      ]
    },
    {
      "cell_type": "code",
      "metadata": {
        "id": "JqgUzSRBCK4k"
      },
      "source": [
        "#Getting unique words and labels from data\n",
        "words = list(df['Word'].unique())\n",
        "tags = list(df['Tag'].unique())\n",
        "# Dictionary word:index pair\n",
        "# word is key and its value is corresponding index\n",
        "word_to_index = {w : i + 2 for i, w in enumerate(words)}\n",
        "word_to_index[\"UNK\"] = 1\n",
        "word_to_index[\"PAD\"] = 0\n",
        "\n",
        "# Dictionary lable:index pair\n",
        "# label is key and value is index.\n",
        "tag_to_index = {t : i + 1 for i, t in enumerate(tags)}\n",
        "tag_to_index[\"PAD\"] = 0\n",
        "\n",
        "idx2word = {i: w for w, i in word_to_index.items()}\n",
        "idx2tag = {i: w for w, i in tag_to_index.items()}"
      ],
      "execution_count": 49,
      "outputs": []
    },
    {
      "cell_type": "code",
      "metadata": {
        "id": "hzLuwzEJCQ6A",
        "outputId": "af84da07-6858-4ff7-9dce-52b0aa348e16",
        "colab": {
          "base_uri": "https://localhost:8080/"
        }
      },
      "source": [
        "print(\"The word India is identified by the index: {}\".format(word_to_index[\"India\"]))\n",
        "print(\"The label B-org for the organization is identified by the index: {}\".format(tag_to_index[\"B-org\"]))"
      ],
      "execution_count": 50,
      "outputs": [
        {
          "output_type": "stream",
          "text": [
            "The word India is identified by the index: 2570\n",
            "The label B-org for the organization is identified by the index: 6\n"
          ],
          "name": "stdout"
        }
      ]
    },
    {
      "cell_type": "code",
      "metadata": {
        "id": "ziEuGjrFCVhk"
      },
      "source": [
        "# Converting each sentence into list of index from list of tokens\n",
        "X = [[word_to_index[w[0]] for w in s] for s in sentences]\n",
        "\n",
        "# Padding each sequence to have same length  of each word\n",
        "X = pad_sequences(maxlen = max_len, sequences = X, padding = \"post\", value = word_to_index[\"PAD\"])"
      ],
      "execution_count": 51,
      "outputs": []
    },
    {
      "cell_type": "code",
      "metadata": {
        "id": "wt_JrE5cCakF"
      },
      "source": [
        "# Convert label to index\n",
        "y = [[tag_to_index[w[2]] for w in s] for s in sentences]\n",
        "\n",
        "# padding\n",
        "y = pad_sequences(maxlen = max_len, sequences = y, padding = \"post\", value = tag_to_index[\"PAD\"])"
      ],
      "execution_count": 52,
      "outputs": []
    },
    {
      "cell_type": "code",
      "metadata": {
        "id": "qPTs9CaICfr9"
      },
      "source": [
        "num_tag = df['Tag'].nunique()\n",
        "# One hot encoded labels\n",
        "y = [to_categorical(i, num_classes = num_tag + 1) for i in y]"
      ],
      "execution_count": 53,
      "outputs": []
    },
    {
      "cell_type": "code",
      "metadata": {
        "id": "-A72-h_ECkuA"
      },
      "source": [
        "#Split data into train and test\n",
        "X_train, X_test, y_train, y_test = train_test_split(X, y, test_size = 0.15)"
      ],
      "execution_count": 54,
      "outputs": []
    },
    {
      "cell_type": "code",
      "metadata": {
        "id": "KYNn6Pq1CqIP",
        "outputId": "2b472de8-6c95-44fa-9091-11d9aa29a5ba",
        "colab": {
          "base_uri": "https://localhost:8080/"
        }
      },
      "source": [
        "print(\"Size of training input data : \", X_train.shape)\n",
        "print(\"Size of training output data : \", np.array(y_train).shape)\n",
        "print(\"Size of testing input data : \", X_test.shape)\n",
        "print(\"Size of testing output data : \", np.array(y_test).shape)"
      ],
      "execution_count": 55,
      "outputs": [
        {
          "output_type": "stream",
          "text": [
            "Size of training input data :  (40765, 75)\n",
            "Size of training output data :  (40765, 75, 18)\n",
            "Size of testing input data :  (7194, 75)\n",
            "Size of testing output data :  (7194, 75, 18)\n"
          ],
          "name": "stdout"
        }
      ]
    },
    {
      "cell_type": "code",
      "metadata": {
        "id": "5c27_i7DCuzc",
        "outputId": "265d2161-fa67-4504-d7ee-a6bc93bd572c",
        "colab": {
          "base_uri": "https://localhost:8080/"
        }
      },
      "source": [
        "# Let's check the first sentence before and after processing.\n",
        "print('*****Before Processing first sentence : *****\\n', ' '.join([w[0] for w in sentences[0]]))\n",
        "print('*****After Processing first sentence : *****\\n ', X[0])"
      ],
      "execution_count": 56,
      "outputs": [
        {
          "output_type": "stream",
          "text": [
            "*****Before Processing first sentence : *****\n",
            " Thousands of demonstrators have marched through London to protest the war in Iraq and demand the withdrawal of British troops from that country .\n",
            "*****After Processing first sentence : *****\n",
            "  [ 2  3  4  5  6  7  8  9 10 11 12 13 14 15 16 11 17  3 18 19 20 21 22 23\n",
            "  0  0  0  0  0  0  0  0  0  0  0  0  0  0  0  0  0  0  0  0  0  0  0  0\n",
            "  0  0  0  0  0  0  0  0  0  0  0  0  0  0  0  0  0  0  0  0  0  0  0  0\n",
            "  0  0  0]\n"
          ],
          "name": "stdout"
        }
      ]
    },
    {
      "cell_type": "code",
      "metadata": {
        "id": "cHfbQd2-C2Ja",
        "outputId": "5dc5c0ca-aae7-4e71-8e63-774adcfbf873",
        "colab": {
          "base_uri": "https://localhost:8080/"
        }
      },
      "source": [
        "# First label before and after processing.\n",
        "print('*****Before Processing first sentence : *****\\n', ' '.join([w[2] for w in sentences[0]]))\n",
        "print('*****After Processing first sentence : *****\\n ', y[0])"
      ],
      "execution_count": 57,
      "outputs": [
        {
          "output_type": "stream",
          "text": [
            "*****Before Processing first sentence : *****\n",
            " O O O O O O B-geo O O O O O B-geo O O O O O B-gpe O O O O O\n",
            "*****After Processing first sentence : *****\n",
            "  [[0. 1. 0. ... 0. 0. 0.]\n",
            " [0. 1. 0. ... 0. 0. 0.]\n",
            " [0. 1. 0. ... 0. 0. 0.]\n",
            " ...\n",
            " [1. 0. 0. ... 0. 0. 0.]\n",
            " [1. 0. 0. ... 0. 0. 0.]\n",
            " [1. 0. 0. ... 0. 0. 0.]]\n"
          ],
          "name": "stdout"
        }
      ]
    },
    {
      "cell_type": "markdown",
      "metadata": {
        "id": "rimZJLa8C_IS"
      },
      "source": [
        "#Bidirectional LSTM-CRF Network"
      ]
    },
    {
      "cell_type": "code",
      "metadata": {
        "id": "l6oTVietC6Wy",
        "outputId": "298e194d-2b70-4cab-f88e-5d247ad50eb5",
        "colab": {
          "base_uri": "https://localhost:8080/"
        }
      },
      "source": [
        "num_tags = df['Tag'].nunique()\n",
        "# Model architecture\n",
        "input = Input(shape = (max_len,))\n",
        "model = Embedding(input_dim = len(words) + 2, output_dim = embedding, input_length = max_len, mask_zero = True)(input)\n",
        "model = Bidirectional(LSTM(units = 50, return_sequences=True, recurrent_dropout=0.1))(model)\n",
        "model = TimeDistributed(Dense(50, activation=\"relu\"))(model)\n",
        "crf   = CRF(num_tags+1)  # CRF layer\n",
        "out   = crf(model)       # output\n",
        "\n",
        "model = Model(input, out)\n",
        "model.compile(optimizer=\"rmsprop\", loss=crf.loss_function, metrics=[crf.accuracy])\n",
        "\n",
        "model.summary()"
      ],
      "execution_count": 58,
      "outputs": [
        {
          "output_type": "stream",
          "text": [
            "_________________________________________________________________\n",
            "Layer (type)                 Output Shape              Param #   \n",
            "=================================================================\n",
            "input_2 (InputLayer)         (None, 75)                0         \n",
            "_________________________________________________________________\n",
            "embedding_2 (Embedding)      (None, 75, 40)            1407200   \n",
            "_________________________________________________________________\n",
            "bidirectional_2 (Bidirection (None, 75, 100)           36400     \n",
            "_________________________________________________________________\n",
            "time_distributed_2 (TimeDist (None, 75, 50)            5050      \n",
            "_________________________________________________________________\n",
            "crf_2 (CRF)                  (None, 75, 18)            1278      \n",
            "=================================================================\n",
            "Total params: 1,449,928\n",
            "Trainable params: 1,449,928\n",
            "Non-trainable params: 0\n",
            "_________________________________________________________________\n"
          ],
          "name": "stdout"
        }
      ]
    },
    {
      "cell_type": "code",
      "metadata": {
        "id": "3Cj5b-9MIFgs"
      },
      "source": [
        "#Plotting the model\n",
        "plot_model(model, show_shapes=True, show_layer_names=True, to_file='model.png')"
      ],
      "execution_count": 59,
      "outputs": []
    },
    {
      "cell_type": "code",
      "metadata": {
        "id": "LVNhHSSLDJSD"
      },
      "source": [
        "checkpointer = ModelCheckpoint(filepath = 'model.h5', verbose = 0, mode = 'auto', save_best_only = True, monitor='val_loss')"
      ],
      "execution_count": 60,
      "outputs": []
    },
    {
      "cell_type": "code",
      "metadata": {
        "id": "JsGFRgJIDONs",
        "outputId": "745f48e8-e115-4dbb-94a6-8958512bb57f",
        "colab": {
          "base_uri": "https://localhost:8080/"
        }
      },
      "source": [
        "#Training the model\n",
        "history = model.fit(X_train, np.array(y_train), batch_size=batch_size, epochs=epochs, \n",
        "                    validation_split=0.1, callbacks=[checkpointer])"
      ],
      "execution_count": 61,
      "outputs": [
        {
          "output_type": "stream",
          "text": [
            "Train on 36688 samples, validate on 4077 samples\n",
            "Epoch 1/3\n",
            "36688/36688 [==============================] - 155s 4ms/step - loss: 9.1579 - crf_viterbi_accuracy: 0.8904 - val_loss: 8.8344 - val_crf_viterbi_accuracy: 0.9437\n",
            "Epoch 2/3\n",
            "36688/36688 [==============================] - 153s 4ms/step - loss: 8.8745 - crf_viterbi_accuracy: 0.9573 - val_loss: 8.7652 - val_crf_viterbi_accuracy: 0.9608\n",
            "Epoch 3/3\n",
            "36688/36688 [==============================] - 151s 4ms/step - loss: 8.8331 - crf_viterbi_accuracy: 0.9679 - val_loss: 8.7426 - val_crf_viterbi_accuracy: 0.9657\n"
          ],
          "name": "stdout"
        }
      ]
    },
    {
      "cell_type": "code",
      "metadata": {
        "id": "PktOd1IkDT8l",
        "outputId": "66e2fafa-460a-43d2-ca65-0928f452cc74",
        "colab": {
          "base_uri": "https://localhost:8080/"
        }
      },
      "source": [
        "#history gives loss parameter to analyse\n",
        "history.history.keys()"
      ],
      "execution_count": 62,
      "outputs": [
        {
          "output_type": "execute_result",
          "data": {
            "text/plain": [
              "dict_keys(['val_loss', 'val_crf_viterbi_accuracy', 'loss', 'crf_viterbi_accuracy'])"
            ]
          },
          "metadata": {
            "tags": []
          },
          "execution_count": 62
        }
      ]
    },
    {
      "cell_type": "code",
      "metadata": {
        "id": "6r0h1nNvDZID",
        "outputId": "d643c6c7-3b28-4b0c-f316-534633dab104",
        "colab": {
          "base_uri": "https://localhost:8080/",
          "height": 516
        }
      },
      "source": [
        "#Plotting Training and validation accuracy\n",
        "acc = history.history['crf_viterbi_accuracy']\n",
        "val_acc = history.history['val_crf_viterbi_accuracy']\n",
        "loss = history.history['loss']\n",
        "val_loss = history.history['val_loss']\n",
        "plt.figure(figsize = (8, 8))\n",
        "epochs = range(1, len(acc) + 1)\n",
        "plt.plot(epochs, acc, 'bo', label='Training acc')\n",
        "plt.plot(epochs, val_acc, 'b', label='Validation acc')\n",
        "plt.title('Training and validation accuracy')\n",
        "plt.legend()"
      ],
      "execution_count": 63,
      "outputs": [
        {
          "output_type": "execute_result",
          "data": {
            "text/plain": [
              "<matplotlib.legend.Legend at 0x7fc59b505748>"
            ]
          },
          "metadata": {
            "tags": []
          },
          "execution_count": 63
        },
        {
          "output_type": "display_data",
          "data": {
            "image/png": "[encoded data removed]",
            "text/plain": [
              "<Figure size 576x576 with 1 Axes>"
            ]
          },
          "metadata": {
            "tags": [],
            "needs_background": "light"
          }
        }
      ]
    },
    {
      "cell_type": "code",
      "metadata": {
        "id": "WUy3YKMUDdPX",
        "outputId": "ccb3c60b-7e36-42f3-80c9-8d633ad35e4f",
        "colab": {
          "base_uri": "https://localhost:8080/",
          "height": 499
        }
      },
      "source": [
        "#Plotting Training and validation loss\n",
        "plt.figure(figsize = (8, 8))\n",
        "plt.plot(epochs, loss, 'bo', label='Training loss')\n",
        "plt.plot(epochs, val_loss, 'b', label='Validation loss')\n",
        "plt.title('Training and validation loss')\n",
        "plt.legend()\n",
        "plt.show()"
      ],
      "execution_count": 64,
      "outputs": [
        {
          "output_type": "display_data",
          "data": {
            "image/png": "[encoded data removed]",
            "text/plain": [
              "<Figure size 576x576 with 1 Axes>"
            ]
          },
          "metadata": {
            "tags": [],
            "needs_background": "light"
          }
        }
      ]
    },
    {
      "cell_type": "markdown",
      "metadata": {
        "id": "PToV9L4bDm8X"
      },
      "source": [
        "#Evaluating the model on test set"
      ]
    },
    {
      "cell_type": "code",
      "metadata": {
        "id": "z7B0V-56Dh3t"
      },
      "source": [
        "# Evaluation\n",
        "y_pred = model.predict(X_test)\n",
        "y_pred = np.argmax(y_pred, axis=-1)\n",
        "y_test_true = np.argmax(y_test, -1)"
      ],
      "execution_count": 65,
      "outputs": []
    },
    {
      "cell_type": "code",
      "metadata": {
        "id": "JcRRJTY8DsuB"
      },
      "source": [
        "# Convert the index to tag\n",
        "y_pred = [[idx2tag[i] for i in row] for row in y_pred]\n",
        "y_test_true = [[idx2tag[i] for i in row] for row in y_test_true]"
      ],
      "execution_count": 66,
      "outputs": []
    },
    {
      "cell_type": "code",
      "metadata": {
        "id": "8Wyi6jALDwrg",
        "outputId": "5d0deb15-9ffb-4604-a96d-2ab5f35f8ac2",
        "colab": {
          "base_uri": "https://localhost:8080/"
        }
      },
      "source": [
        "print(\"F1-score is : {:.1%}\".format(f1_score(y_test_true, y_pred)))"
      ],
      "execution_count": 67,
      "outputs": [
        {
          "output_type": "stream",
          "text": [
            "F1-score is : 87.4%\n"
          ],
          "name": "stdout"
        }
      ]
    },
    {
      "cell_type": "code",
      "metadata": {
        "id": "UBc5U1naD2Pp",
        "outputId": "1e7c3356-2086-4b0c-b757-761bfacc71b5",
        "colab": {
          "base_uri": "https://localhost:8080/"
        }
      },
      "source": [
        "report = flat_classification_report(y_pred=y_pred, y_true=y_test_true)\n",
        "print(report)"
      ],
      "execution_count": 68,
      "outputs": [
        {
          "output_type": "stream",
          "text": [
            "              precision    recall  f1-score   support\n",
            "\n",
            "       B-art       0.00      0.00      0.00        66\n",
            "       B-eve       0.00      0.00      0.00        35\n",
            "       B-geo       0.87      0.87      0.87      5698\n",
            "       B-gpe       0.97      0.91      0.94      2289\n",
            "       B-nat       0.00      0.00      0.00        28\n",
            "       B-org       0.80      0.67      0.73      2918\n",
            "       B-per       0.75      0.85      0.80      2439\n",
            "       B-tim       0.90      0.85      0.87      2934\n",
            "       I-art       0.00      0.00      0.00        41\n",
            "       I-eve       0.00      0.00      0.00        27\n",
            "       I-geo       0.81      0.75      0.78      1154\n",
            "       I-gpe       1.00      0.55      0.71        31\n",
            "       I-nat       0.00      0.00      0.00         5\n",
            "       I-org       0.80      0.76      0.78      2536\n",
            "       I-per       0.82      0.90      0.86      2437\n",
            "       I-tim       0.86      0.65      0.74       964\n",
            "           O       0.99      0.99      0.99    132245\n",
            "         PAD       1.00      1.00      1.00    383703\n",
            "\n",
            "    accuracy                           0.99    539550\n",
            "   macro avg       0.59      0.54      0.56    539550\n",
            "weighted avg       0.99      0.99      0.99    539550\n",
            "\n"
          ],
          "name": "stdout"
        }
      ]
    },
    {
      "cell_type": "code",
      "metadata": {
        "id": "s0AWUf-9D7vl",
        "outputId": "b3fd9b9c-58cc-41fc-9fec-e1e296ef4bb8",
        "colab": {
          "base_uri": "https://localhost:8080/"
        }
      },
      "source": [
        "# At every execution model picks some random test sample from test set.\n",
        "i = np.random.randint(0,X_test.shape[0]) # choose a random number between 0 and len(X_test)\n",
        "p = model.predict(np.array([X_test[i]]))\n",
        "p = np.argmax(p, axis=-1)\n",
        "true = np.argmax(y_test[i], -1)\n",
        "print(\"Sample number {} of {} (Test Set)\".format(i, X_test.shape[0]))\n",
        "\n",
        "# Visualization\n",
        "print(\"{:15}||{:5}||{}\".format(\"Word\", \"True\", \"Pred\"))\n",
        "print(30 * \"=\")\n",
        "for w, t, pred in zip(X_test[i], true, p[0]):\n",
        "    if w != 0:\n",
        "        print(\"{:15}: {:5} {}\".format(words[w-2], idx2tag[t], idx2tag[pred]))"
      ],
      "execution_count": 69,
      "outputs": [
        {
          "output_type": "stream",
          "text": [
            "Sample number 3615 of 7194 (Test Set)\n",
            "Word           ||True ||Pred\n",
            "==============================\n",
            "Iranian        : B-gpe B-gpe\n",
            "officials      : O     O\n",
            "then           : O     O\n",
            "confirmed      : O     O\n",
            "the            : O     O\n",
            "31-year-old    : O     O\n",
            "journalist     : O     O\n",
            "is             : O     O\n",
            "being          : O     O\n",
            "held           : O     O\n",
            "in             : O     O\n",
            "Tehran         : B-geo B-geo\n",
            "'s             : O     O\n",
            "infamous       : O     O\n",
            "Evin           : B-tim O\n",
            "prison         : O     O\n",
            ",              : O     O\n",
            "saying         : O     O\n",
            "that           : O     O\n",
            "she            : O     O\n",
            "worked         : O     O\n",
            "illegally      : O     O\n",
            "in             : O     O\n",
            "the            : O     O\n",
            "country        : O     O\n",
            "after          : O     O\n",
            "her            : O     O\n",
            "press          : O     O\n",
            "credentials    : O     O\n",
            "had            : O     O\n",
            "been           : O     O\n",
            "revoked        : O     O\n",
            ".              : O     O\n"
          ],
          "name": "stdout"
        }
      ]
    }
  ]
}