{
  "nbformat": 4,
  "nbformat_minor": 0,
  "metadata": {
    "colab": {
      "name": "NER with LSTM.ipynb",
      "provenance": [],
      "collapsed_sections": [],
      "toc_visible": true
    },
    "kernelspec": {
      "name": "python3",
      "display_name": "Python 3"
    },
    "accelerator": "GPU"
  },
  "cells": [
    {
      "cell_type": "markdown",
      "metadata": {
        "id": "UFGaFR76bRd4"
      },
      "source": [
        "#1.Load data"
      ]
    },
    {
      "cell_type": "code",
      "metadata": {
        "id": "wUaPzKaeILcB"
      },
      "source": [
        "#Import packages required\n",
        "\n",
        "import pandas            as pd\n",
        "import numpy             as np\n",
        "import matplotlib.pyplot as plt\n",
        "import json\n",
        "import tensorflow\n",
        "\n",
        "from sklearn.model_selection      import train_test_split\n",
        "from keras.preprocessing.sequence import pad_sequences\n",
        "from keras.utils                  import to_categorical\n",
        "from tensorflow.keras             import Sequential, Model, Input\n",
        "from tensorflow.keras.layers      import LSTM, Embedding, Dense, TimeDistributed, Dropout, Bidirectional\n",
        "from tensorflow.keras.utils       import plot_model\n",
        "from numpy.random                 import seed\n",
        "seed(1)\n",
        "tensorflow.random.set_seed(2)"
      ],
      "execution_count": 1,
      "outputs": []
    },
    {
      "cell_type": "code",
      "metadata": {
        "id": "34CaWVHfAXku",
        "outputId": "14c48c37-bfba-40b6-ceca-b69f4e2276d1",
        "colab": {
          "base_uri": "https://localhost:8080/"
        }
      },
      "source": [
        "#Download data from Kaggle\n",
        "\n",
        "!mkdir ~/.kaggle\n",
        "token = {\"username\":\"gugankailasam\",\"key\":\"7be55bcc2396ad6d025f6b7e2b3b53b0\"}\n",
        "\n",
        "with open('kaggle.json','w') as file:\n",
        "  json.dump(token,file)\n",
        "\n",
        "!cp ./kaggle.json ~/.kaggle/kaggle.json\n",
        "!chmod 600 /root/.kaggle/kaggle.json\n",
        "!kaggle datasets download -d abhinavwalia95/entity-annotated-corpus\n",
        "import zipfile\n",
        "with zipfile.ZipFile(\"entity-annotated-corpus.zip\",\"r\") as zip_ref:\n",
        "    zip_ref.extractall(\"data\")\n",
        "!ls"
      ],
      "execution_count": 2,
      "outputs": [
        {
          "output_type": "stream",
          "text": [
            "Downloading entity-annotated-corpus.zip to /content\n",
            " 72% 19.0M/26.4M [00:01<00:00, 8.38MB/s]\n",
            "100% 26.4M/26.4M [00:01<00:00, 16.1MB/s]\n",
            "data  entity-annotated-corpus.zip  kaggle.json\tsample_data\n"
          ],
          "name": "stdout"
        }
      ]
    },
    {
      "cell_type": "code",
      "metadata": {
        "id": "1uggZPjXoC9m",
        "outputId": "ac046ee6-85d0-402c-a31f-d1ca96f4f386",
        "colab": {
          "base_uri": "https://localhost:8080/",
          "height": 359
        }
      },
      "source": [
        "data = pd.read_csv('/content/data/ner_dataset.csv', encoding= 'unicode_escape')#data//ner_dataset.csv\n",
        "data.head(10)"
      ],
      "execution_count": 3,
      "outputs": [
        {
          "output_type": "execute_result",
          "data": {
            "text/html": [
              "<div>\n",
              "<style scoped>\n",
              "    .dataframe tbody tr th:only-of-type {\n",
              "        vertical-align: middle;\n",
              "    }\n",
              "\n",
              "    .dataframe tbody tr th {\n",
              "        vertical-align: top;\n",
              "    }\n",
              "\n",
              "    .dataframe thead th {\n",
              "        text-align: right;\n",
              "    }\n",
              "</style>\n",
              "<table border=\"1\" class=\"dataframe\">\n",
              "  <thead>\n",
              "    <tr style=\"text-align: right;\">\n",
              "      <th></th>\n",
              "      <th>Sentence #</th>\n",
              "      <th>Word</th>\n",
              "      <th>POS</th>\n",
              "      <th>Tag</th>\n",
              "    </tr>\n",
              "  </thead>\n",
              "  <tbody>\n",
              "    <tr>\n",
              "      <th>0</th>\n",
              "      <td>Sentence: 1</td>\n",
              "      <td>Thousands</td>\n",
              "      <td>NNS</td>\n",
              "      <td>O</td>\n",
              "    </tr>\n",
              "    <tr>\n",
              "      <th>1</th>\n",
              "      <td>NaN</td>\n",
              "      <td>of</td>\n",
              "      <td>IN</td>\n",
              "      <td>O</td>\n",
              "    </tr>\n",
              "    <tr>\n",
              "      <th>2</th>\n",
              "      <td>NaN</td>\n",
              "      <td>demonstrators</td>\n",
              "      <td>NNS</td>\n",
              "      <td>O</td>\n",
              "    </tr>\n",
              "    <tr>\n",
              "      <th>3</th>\n",
              "      <td>NaN</td>\n",
              "      <td>have</td>\n",
              "      <td>VBP</td>\n",
              "      <td>O</td>\n",
              "    </tr>\n",
              "    <tr>\n",
              "      <th>4</th>\n",
              "      <td>NaN</td>\n",
              "      <td>marched</td>\n",
              "      <td>VBN</td>\n",
              "      <td>O</td>\n",
              "    </tr>\n",
              "    <tr>\n",
              "      <th>5</th>\n",
              "      <td>NaN</td>\n",
              "      <td>through</td>\n",
              "      <td>IN</td>\n",
              "      <td>O</td>\n",
              "    </tr>\n",
              "    <tr>\n",
              "      <th>6</th>\n",
              "      <td>NaN</td>\n",
              "      <td>London</td>\n",
              "      <td>NNP</td>\n",
              "      <td>B-geo</td>\n",
              "    </tr>\n",
              "    <tr>\n",
              "      <th>7</th>\n",
              "      <td>NaN</td>\n",
              "      <td>to</td>\n",
              "      <td>TO</td>\n",
              "      <td>O</td>\n",
              "    </tr>\n",
              "    <tr>\n",
              "      <th>8</th>\n",
              "      <td>NaN</td>\n",
              "      <td>protest</td>\n",
              "      <td>VB</td>\n",
              "      <td>O</td>\n",
              "    </tr>\n",
              "    <tr>\n",
              "      <th>9</th>\n",
              "      <td>NaN</td>\n",
              "      <td>the</td>\n",
              "      <td>DT</td>\n",
              "      <td>O</td>\n",
              "    </tr>\n",
              "  </tbody>\n",
              "</table>\n",
              "</div>"
            ],
            "text/plain": [
              "    Sentence #           Word  POS    Tag\n",
              "0  Sentence: 1      Thousands  NNS      O\n",
              "1          NaN             of   IN      O\n",
              "2          NaN  demonstrators  NNS      O\n",
              "3          NaN           have  VBP      O\n",
              "4          NaN        marched  VBN      O\n",
              "5          NaN        through   IN      O\n",
              "6          NaN         London  NNP  B-geo\n",
              "7          NaN             to   TO      O\n",
              "8          NaN        protest   VB      O\n",
              "9          NaN            the   DT      O"
            ]
          },
          "metadata": {
            "tags": []
          },
          "execution_count": 3
        }
      ]
    },
    {
      "cell_type": "code",
      "metadata": {
        "id": "VXJK4nADpOd_",
        "outputId": "ace14d6e-5d95-4535-c129-12972dfa5f7b",
        "colab": {
          "base_uri": "https://localhost:8080/"
        }
      },
      "source": [
        "data.shape"
      ],
      "execution_count": 4,
      "outputs": [
        {
          "output_type": "execute_result",
          "data": {
            "text/plain": [
              "(1048575, 4)"
            ]
          },
          "metadata": {
            "tags": []
          },
          "execution_count": 4
        }
      ]
    },
    {
      "cell_type": "markdown",
      "metadata": {
        "id": "RysG1GjqbgJc"
      },
      "source": [
        "#2. Extract mappings required for the neural network"
      ]
    },
    {
      "cell_type": "code",
      "metadata": {
        "id": "uyi19ocAbpoM"
      },
      "source": [
        "#Generating id's to Word and Tag features\n",
        "def get_dict_map(data, token_or_tag):\n",
        "    tok2idx = {}\n",
        "    idx2tok = {}\n",
        "    \n",
        "    if token_or_tag == 'token':\n",
        "        vocab = list(set(data['Word'].to_list()))\n",
        "    else:\n",
        "        vocab = list(set(data['Tag'].to_list()))\n",
        "    \n",
        "    idx2tok = {idx:tok for  idx, tok in enumerate(vocab)}\n",
        "    tok2idx = {tok:idx for  idx, tok in enumerate(vocab)}\n",
        "    \n",
        "    return tok2idx, idx2tok\n",
        "\n",
        "token2idx, idx2token = get_dict_map(data, 'token')\n",
        "tag2idx, idx2tag = get_dict_map(data, 'tag')"
      ],
      "execution_count": 5,
      "outputs": []
    },
    {
      "cell_type": "code",
      "metadata": {
        "id": "QXojLC5xb1Vl"
      },
      "source": [
        "data['Word_idx'] = data['Word'].map(token2idx)\n",
        "data['Tag_idx']  = data['Tag'].map(tag2idx)"
      ],
      "execution_count": 6,
      "outputs": []
    },
    {
      "cell_type": "code",
      "metadata": {
        "id": "4sWmwDBgb4ZF",
        "outputId": "1f53a4ac-1b6e-4701-d655-4d780e03f4ff",
        "colab": {
          "base_uri": "https://localhost:8080/",
          "height": 359
        }
      },
      "source": [
        "data.head(10)"
      ],
      "execution_count": 7,
      "outputs": [
        {
          "output_type": "execute_result",
          "data": {
            "text/html": [
              "<div>\n",
              "<style scoped>\n",
              "    .dataframe tbody tr th:only-of-type {\n",
              "        vertical-align: middle;\n",
              "    }\n",
              "\n",
              "    .dataframe tbody tr th {\n",
              "        vertical-align: top;\n",
              "    }\n",
              "\n",
              "    .dataframe thead th {\n",
              "        text-align: right;\n",
              "    }\n",
              "</style>\n",
              "<table border=\"1\" class=\"dataframe\">\n",
              "  <thead>\n",
              "    <tr style=\"text-align: right;\">\n",
              "      <th></th>\n",
              "      <th>Sentence #</th>\n",
              "      <th>Word</th>\n",
              "      <th>POS</th>\n",
              "      <th>Tag</th>\n",
              "      <th>Word_idx</th>\n",
              "      <th>Tag_idx</th>\n",
              "    </tr>\n",
              "  </thead>\n",
              "  <tbody>\n",
              "    <tr>\n",
              "      <th>0</th>\n",
              "      <td>Sentence: 1</td>\n",
              "      <td>Thousands</td>\n",
              "      <td>NNS</td>\n",
              "      <td>O</td>\n",
              "      <td>14491</td>\n",
              "      <td>9</td>\n",
              "    </tr>\n",
              "    <tr>\n",
              "      <th>1</th>\n",
              "      <td>NaN</td>\n",
              "      <td>of</td>\n",
              "      <td>IN</td>\n",
              "      <td>O</td>\n",
              "      <td>5946</td>\n",
              "      <td>9</td>\n",
              "    </tr>\n",
              "    <tr>\n",
              "      <th>2</th>\n",
              "      <td>NaN</td>\n",
              "      <td>demonstrators</td>\n",
              "      <td>NNS</td>\n",
              "      <td>O</td>\n",
              "      <td>14390</td>\n",
              "      <td>9</td>\n",
              "    </tr>\n",
              "    <tr>\n",
              "      <th>3</th>\n",
              "      <td>NaN</td>\n",
              "      <td>have</td>\n",
              "      <td>VBP</td>\n",
              "      <td>O</td>\n",
              "      <td>31789</td>\n",
              "      <td>9</td>\n",
              "    </tr>\n",
              "    <tr>\n",
              "      <th>4</th>\n",
              "      <td>NaN</td>\n",
              "      <td>marched</td>\n",
              "      <td>VBN</td>\n",
              "      <td>O</td>\n",
              "      <td>2844</td>\n",
              "      <td>9</td>\n",
              "    </tr>\n",
              "    <tr>\n",
              "      <th>5</th>\n",
              "      <td>NaN</td>\n",
              "      <td>through</td>\n",
              "      <td>IN</td>\n",
              "      <td>O</td>\n",
              "      <td>5657</td>\n",
              "      <td>9</td>\n",
              "    </tr>\n",
              "    <tr>\n",
              "      <th>6</th>\n",
              "      <td>NaN</td>\n",
              "      <td>London</td>\n",
              "      <td>NNP</td>\n",
              "      <td>B-geo</td>\n",
              "      <td>30133</td>\n",
              "      <td>7</td>\n",
              "    </tr>\n",
              "    <tr>\n",
              "      <th>7</th>\n",
              "      <td>NaN</td>\n",
              "      <td>to</td>\n",
              "      <td>TO</td>\n",
              "      <td>O</td>\n",
              "      <td>2510</td>\n",
              "      <td>9</td>\n",
              "    </tr>\n",
              "    <tr>\n",
              "      <th>8</th>\n",
              "      <td>NaN</td>\n",
              "      <td>protest</td>\n",
              "      <td>VB</td>\n",
              "      <td>O</td>\n",
              "      <td>13471</td>\n",
              "      <td>9</td>\n",
              "    </tr>\n",
              "    <tr>\n",
              "      <th>9</th>\n",
              "      <td>NaN</td>\n",
              "      <td>the</td>\n",
              "      <td>DT</td>\n",
              "      <td>O</td>\n",
              "      <td>23666</td>\n",
              "      <td>9</td>\n",
              "    </tr>\n",
              "  </tbody>\n",
              "</table>\n",
              "</div>"
            ],
            "text/plain": [
              "    Sentence #           Word  POS    Tag  Word_idx  Tag_idx\n",
              "0  Sentence: 1      Thousands  NNS      O     14491        9\n",
              "1          NaN             of   IN      O      5946        9\n",
              "2          NaN  demonstrators  NNS      O     14390        9\n",
              "3          NaN           have  VBP      O     31789        9\n",
              "4          NaN        marched  VBN      O      2844        9\n",
              "5          NaN        through   IN      O      5657        9\n",
              "6          NaN         London  NNP  B-geo     30133        7\n",
              "7          NaN             to   TO      O      2510        9\n",
              "8          NaN        protest   VB      O     13471        9\n",
              "9          NaN            the   DT      O     23666        9"
            ]
          },
          "metadata": {
            "tags": []
          },
          "execution_count": 7
        }
      ]
    },
    {
      "cell_type": "markdown",
      "metadata": {
        "id": "Oz0F3ITjcCvF"
      },
      "source": [
        "#3. Transform columns to extract sequential data"
      ]
    },
    {
      "cell_type": "code",
      "metadata": {
        "id": "i3zgQdYHb8Qd",
        "outputId": "b1ba29bb-f2d6-4eed-933f-6bc33a9e8ec1",
        "colab": {
          "base_uri": "https://localhost:8080/"
        }
      },
      "source": [
        "data.isna().any()#Check for null values"
      ],
      "execution_count": 8,
      "outputs": [
        {
          "output_type": "execute_result",
          "data": {
            "text/plain": [
              "Sentence #     True\n",
              "Word          False\n",
              "POS           False\n",
              "Tag           False\n",
              "Word_idx      False\n",
              "Tag_idx       False\n",
              "dtype: bool"
            ]
          },
          "metadata": {
            "tags": []
          },
          "execution_count": 8
        }
      ]
    },
    {
      "cell_type": "code",
      "metadata": {
        "id": "TBxI_3LGcHVE",
        "outputId": "c703059a-96e6-4675-92f4-2e63e45b8b3f",
        "colab": {
          "base_uri": "https://localhost:8080/",
          "height": 617
        }
      },
      "source": [
        "data_fillna = data.fillna(method='ffill', axis=0)\n",
        "data_group = data_fillna.groupby(['Sentence #'],as_index=False\n",
        "                                )['Word', 'POS', 'Tag', 'Word_idx', 'Tag_idx'].agg(lambda x: list(x))\n",
        "data_group.head(10)"
      ],
      "execution_count": 9,
      "outputs": [
        {
          "output_type": "stream",
          "text": [
            "/usr/local/lib/python3.6/dist-packages/ipykernel_launcher.py:3: FutureWarning: Indexing with multiple keys (implicitly converted to a tuple of keys) will be deprecated, use a list instead.\n",
            "  This is separate from the ipykernel package so we can avoid doing imports until\n"
          ],
          "name": "stderr"
        },
        {
          "output_type": "execute_result",
          "data": {
            "text/html": [
              "<div>\n",
              "<style scoped>\n",
              "    .dataframe tbody tr th:only-of-type {\n",
              "        vertical-align: middle;\n",
              "    }\n",
              "\n",
              "    .dataframe tbody tr th {\n",
              "        vertical-align: top;\n",
              "    }\n",
              "\n",
              "    .dataframe thead th {\n",
              "        text-align: right;\n",
              "    }\n",
              "</style>\n",
              "<table border=\"1\" class=\"dataframe\">\n",
              "  <thead>\n",
              "    <tr style=\"text-align: right;\">\n",
              "      <th></th>\n",
              "      <th>Sentence #</th>\n",
              "      <th>Word</th>\n",
              "      <th>POS</th>\n",
              "      <th>Tag</th>\n",
              "      <th>Word_idx</th>\n",
              "      <th>Tag_idx</th>\n",
              "    </tr>\n",
              "  </thead>\n",
              "  <tbody>\n",
              "    <tr>\n",
              "      <th>0</th>\n",
              "      <td>Sentence: 1</td>\n",
              "      <td>[Thousands, of, demonstrators, have, marched, ...</td>\n",
              "      <td>[NNS, IN, NNS, VBP, VBN, IN, NNP, TO, VB, DT, ...</td>\n",
              "      <td>[O, O, O, O, O, O, B-geo, O, O, O, O, O, B-geo...</td>\n",
              "      <td>[14491, 5946, 14390, 31789, 2844, 5657, 30133,...</td>\n",
              "      <td>[9, 9, 9, 9, 9, 9, 7, 9, 9, 9, 9, 9, 7, 9, 9, ...</td>\n",
              "    </tr>\n",
              "    <tr>\n",
              "      <th>1</th>\n",
              "      <td>Sentence: 10</td>\n",
              "      <td>[Iranian, officials, say, they, expect, to, ge...</td>\n",
              "      <td>[JJ, NNS, VBP, PRP, VBP, TO, VB, NN, TO, JJ, J...</td>\n",
              "      <td>[B-gpe, O, O, O, O, O, O, O, O, O, O, O, O, O,...</td>\n",
              "      <td>[32672, 21397, 26787, 11098, 28312, 2510, 2686...</td>\n",
              "      <td>[0, 9, 9, 9, 9, 9, 9, 9, 9, 9, 9, 9, 9, 9, 9, ...</td>\n",
              "    </tr>\n",
              "    <tr>\n",
              "      <th>2</th>\n",
              "      <td>Sentence: 100</td>\n",
              "      <td>[Helicopter, gunships, Saturday, pounded, mili...</td>\n",
              "      <td>[NN, NNS, NNP, VBD, JJ, NNS, IN, DT, NNP, JJ, ...</td>\n",
              "      <td>[O, O, B-tim, O, O, O, O, O, B-geo, O, O, O, O...</td>\n",
              "      <td>[15784, 34949, 14038, 13475, 15291, 9462, 3434...</td>\n",
              "      <td>[9, 9, 8, 9, 9, 9, 9, 9, 7, 9, 9, 9, 9, 9, 3, ...</td>\n",
              "    </tr>\n",
              "    <tr>\n",
              "      <th>3</th>\n",
              "      <td>Sentence: 1000</td>\n",
              "      <td>[They, left, after, a, tense, hour-long, stand...</td>\n",
              "      <td>[PRP, VBD, IN, DT, NN, JJ, NN, IN, NN, NNS, .]</td>\n",
              "      <td>[O, O, O, O, O, O, O, O, O, O, O]</td>\n",
              "      <td>[1785, 6738, 17249, 9120, 29173, 5593, 4047, 2...</td>\n",
              "      <td>[9, 9, 9, 9, 9, 9, 9, 9, 9, 9, 9]</td>\n",
              "    </tr>\n",
              "    <tr>\n",
              "      <th>4</th>\n",
              "      <td>Sentence: 10000</td>\n",
              "      <td>[U.N., relief, coordinator, Jan, Egeland, said...</td>\n",
              "      <td>[NNP, NN, NN, NNP, NNP, VBD, NNP, ,, NNP, ,, J...</td>\n",
              "      <td>[B-geo, O, O, B-per, I-per, O, B-tim, O, B-geo...</td>\n",
              "      <td>[15870, 10766, 21927, 4390, 22493, 27578, 6957...</td>\n",
              "      <td>[7, 9, 9, 6, 16, 9, 8, 9, 7, 9, 0, 9, 0, 9, 9,...</td>\n",
              "    </tr>\n",
              "    <tr>\n",
              "      <th>5</th>\n",
              "      <td>Sentence: 10001</td>\n",
              "      <td>[Mr., Egeland, said, the, latest, figures, sho...</td>\n",
              "      <td>[NNP, NNP, VBD, DT, JJS, NNS, VBP, CD, CD, NNS...</td>\n",
              "      <td>[B-per, I-per, O, O, O, O, O, O, O, O, O, O, O...</td>\n",
              "      <td>[28526, 22493, 27578, 23666, 24249, 24596, 172...</td>\n",
              "      <td>[6, 16, 9, 9, 9, 9, 9, 9, 9, 9, 9, 9, 9, 9, 9,...</td>\n",
              "    </tr>\n",
              "    <tr>\n",
              "      <th>6</th>\n",
              "      <td>Sentence: 10002</td>\n",
              "      <td>[He, said, last, week, 's, tsunami, and, the, ...</td>\n",
              "      <td>[PRP, VBD, JJ, NN, POS, NN, CC, DT, JJ, NN, NN...</td>\n",
              "      <td>[O, O, O, O, O, O, O, O, O, O, O, O, O, O, O, ...</td>\n",
              "      <td>[987, 27578, 26485, 2317, 16203, 6929, 2023, 2...</td>\n",
              "      <td>[9, 9, 9, 9, 9, 9, 9, 9, 9, 9, 9, 9, 9, 9, 9, ...</td>\n",
              "    </tr>\n",
              "    <tr>\n",
              "      <th>7</th>\n",
              "      <td>Sentence: 10003</td>\n",
              "      <td>[Some, 1,27,000, people, are, known, dead, .]</td>\n",
              "      <td>[DT, CD, NNS, VBP, VBN, JJ, .]</td>\n",
              "      <td>[O, O, O, O, O, O, O]</td>\n",
              "      <td>[6715, 25641, 2237, 24991, 21398, 73, 23378]</td>\n",
              "      <td>[9, 9, 9, 9, 9, 9, 9]</td>\n",
              "    </tr>\n",
              "    <tr>\n",
              "      <th>8</th>\n",
              "      <td>Sentence: 10004</td>\n",
              "      <td>[Aid, is, being, rushed, to, the, region, ,, b...</td>\n",
              "      <td>[NNP, VBZ, VBG, VBN, TO, DT, NN, ,, CC, DT, NN...</td>\n",
              "      <td>[O, O, O, O, O, O, O, O, O, O, B-geo, O, O, O,...</td>\n",
              "      <td>[32548, 22854, 1725, 25800, 2510, 23666, 30016...</td>\n",
              "      <td>[9, 9, 9, 9, 9, 9, 9, 9, 9, 9, 7, 9, 9, 9, 9, ...</td>\n",
              "    </tr>\n",
              "    <tr>\n",
              "      <th>9</th>\n",
              "      <td>Sentence: 10005</td>\n",
              "      <td>[Lebanese, politicians, are, condemning, Frida...</td>\n",
              "      <td>[JJ, NNS, VBP, VBG, NNP, POS, NN, NN, IN, DT, ...</td>\n",
              "      <td>[B-gpe, O, O, O, B-tim, O, O, O, O, O, O, O, O...</td>\n",
              "      <td>[14694, 5594, 24991, 20425, 34688, 16203, 2932...</td>\n",
              "      <td>[0, 9, 9, 9, 8, 9, 9, 9, 9, 9, 9, 9, 9, 7, 9, ...</td>\n",
              "    </tr>\n",
              "  </tbody>\n",
              "</table>\n",
              "</div>"
            ],
            "text/plain": [
              "        Sentence #  ...                                            Tag_idx\n",
              "0      Sentence: 1  ...  [9, 9, 9, 9, 9, 9, 7, 9, 9, 9, 9, 9, 7, 9, 9, ...\n",
              "1     Sentence: 10  ...  [0, 9, 9, 9, 9, 9, 9, 9, 9, 9, 9, 9, 9, 9, 9, ...\n",
              "2    Sentence: 100  ...  [9, 9, 8, 9, 9, 9, 9, 9, 7, 9, 9, 9, 9, 9, 3, ...\n",
              "3   Sentence: 1000  ...                  [9, 9, 9, 9, 9, 9, 9, 9, 9, 9, 9]\n",
              "4  Sentence: 10000  ...  [7, 9, 9, 6, 16, 9, 8, 9, 7, 9, 0, 9, 0, 9, 9,...\n",
              "5  Sentence: 10001  ...  [6, 16, 9, 9, 9, 9, 9, 9, 9, 9, 9, 9, 9, 9, 9,...\n",
              "6  Sentence: 10002  ...  [9, 9, 9, 9, 9, 9, 9, 9, 9, 9, 9, 9, 9, 9, 9, ...\n",
              "7  Sentence: 10003  ...                              [9, 9, 9, 9, 9, 9, 9]\n",
              "8  Sentence: 10004  ...  [9, 9, 9, 9, 9, 9, 9, 9, 9, 9, 7, 9, 9, 9, 9, ...\n",
              "9  Sentence: 10005  ...  [0, 9, 9, 9, 8, 9, 9, 9, 9, 9, 9, 9, 9, 7, 9, ...\n",
              "\n",
              "[10 rows x 6 columns]"
            ]
          },
          "metadata": {
            "tags": []
          },
          "execution_count": 9
        }
      ]
    },
    {
      "cell_type": "markdown",
      "metadata": {
        "id": "A72MQ7c8cRuF"
      },
      "source": [
        "#4. Pad sequences and split the dataset into train, test"
      ]
    },
    {
      "cell_type": "code",
      "metadata": {
        "id": "nKWNyXCxccB9",
        "outputId": "77da7d30-cfa3-4817-bd49-b25f77402599",
        "colab": {
          "base_uri": "https://localhost:8080/"
        }
      },
      "source": [
        "#Splitting data into train_tokens, test_tokens, train_tags, test_tags\n",
        "def get_pad_train_test_val(data_group, data):\n",
        "    n_token = len(list(set(data['Word'].to_list())))\n",
        "    n_tag = len(list(set(data['Tag'].to_list())))\n",
        "    \n",
        "    tokens = data_group['Word_idx'].tolist()\n",
        "    maxlen = max([len(s) for s in tokens])\n",
        "    pad_tokens = pad_sequences(tokens, maxlen=maxlen, dtype='int32', padding='post', value= n_token - 1)\n",
        "    \n",
        "    tags = data_group['Tag_idx'].tolist()\n",
        "    pad_tags = pad_sequences(tags, maxlen=maxlen, dtype='int32', padding='post', value= tag2idx[\"O\"])\n",
        "    \n",
        "    n_tags = len(tag2idx)\n",
        "    pad_tags = [to_categorical(i, num_classes=n_tags) for i in pad_tags]    \n",
        "    \n",
        "    train_tokens, test_tokens, train_tags, test_tags = train_test_split(pad_tokens, pad_tags, test_size=0.2, train_size=0.8, random_state=2020)\n",
        "\n",
        "    print(\n",
        "        'train_tokens length:', len(train_tokens),\n",
        "        '\\ntest_tokens length:', len(test_tokens),\n",
        "        '\\ntrain_tags:', len(train_tags),\n",
        "        '\\ntest_tags:', len(test_tags)\n",
        "    )\n",
        "    \n",
        "    return train_tokens, test_tokens, train_tags, test_tags\n",
        "\n",
        "train_tokens, test_tokens, train_tags, test_tags = get_pad_train_test_val(data_group, data)"
      ],
      "execution_count": 10,
      "outputs": [
        {
          "output_type": "stream",
          "text": [
            "train_tokens length: 38367 \n",
            "test_tokens length: 9592 \n",
            "train_tags: 38367 \n",
            "test_tags: 9592\n"
          ],
          "name": "stdout"
        }
      ]
    },
    {
      "cell_type": "markdown",
      "metadata": {
        "id": "af-Y4KBUcrnH"
      },
      "source": [
        "#5. Build Model Layout"
      ]
    },
    {
      "cell_type": "code",
      "metadata": {
        "id": "CwJWD0Kpc4BG",
        "outputId": "b401f02d-823c-45e4-b041-c17c86731ba9",
        "colab": {
          "base_uri": "https://localhost:8080/"
        }
      },
      "source": [
        "#Checking input, output dimensions\n",
        "input_dim = len(list(set(data['Word'].to_list())))+1\n",
        "output_dim = 32\n",
        "input_length = max([len(s) for s in data_group['Word_idx'].tolist()])\n",
        "n_tags = len(tag2idx)\n",
        "print('input_dim: ', input_dim, '\\noutput_dim: ', output_dim, '\\ninput_length: ', input_length, '\\nn_tags: ', n_tags)"
      ],
      "execution_count": 12,
      "outputs": [
        {
          "output_type": "stream",
          "text": [
            "input_dim:  35179 \n",
            "output_dim:  32 \n",
            "input_length:  104 \n",
            "n_tags:  17\n"
          ],
          "name": "stdout"
        }
      ]
    },
    {
      "cell_type": "code",
      "metadata": {
        "id": "_HvU6b4ic-PM"
      },
      "source": [
        "#Building the model\n",
        "def get_lstm_model():\n",
        "    model = Sequential()\n",
        "\n",
        "    # Add Embedding layer\n",
        "    model.add(Embedding(input_dim=input_dim, output_dim=output_dim, input_length=input_length))    \n",
        "    # Add LSTM\n",
        "    model.add(LSTM(units=output_dim, return_sequences=True, dropout=0.5, recurrent_dropout=0.5))\n",
        "    # Add timeDistributed Layer\n",
        "    model.add(TimeDistributed(Dense(n_tags, activation=\"relu\")))\n",
        "    # Compile model\n",
        "    model.compile(loss='categorical_crossentropy', optimizer='adam', metrics=['accuracy'])\n",
        "    model.summary()\n",
        "    \n",
        "    return model"
      ],
      "execution_count": 13,
      "outputs": []
    },
    {
      "cell_type": "code",
      "metadata": {
        "id": "j2LmVIM9dDgr",
        "outputId": "42faf973-4704-49dd-c80f-997835208d3e",
        "colab": {
          "base_uri": "https://localhost:8080/",
          "height": 644
        }
      },
      "source": [
        "#Training the model\n",
        "def train_model(X, y, model):\n",
        "    loss = list()\n",
        "    for _ in range(10):\n",
        "        # fit model for one epoch on this sequence\n",
        "        hist = model.fit(X, y, batch_size=1000, verbose=1, epochs=1, validation_split= 0.2)\n",
        "        loss.append(hist.history['loss'][0])\n",
        "    return loss\n",
        "\n",
        "model_lstm = get_lstm_model()\n",
        "plot_model(model_lstm)#Ploting model to observe its components"
      ],
      "execution_count": 14,
      "outputs": [
        {
          "output_type": "stream",
          "text": [
            "WARNING:tensorflow:Layer lstm will not use cuDNN kernel since it doesn't meet the cuDNN kernel criteria. It will use generic GPU kernel as fallback when running on GPU\n",
            "Model: \"sequential\"\n",
            "_________________________________________________________________\n",
            "Layer (type)                 Output Shape              Param #   \n",
            "=================================================================\n",
            "embedding (Embedding)        (None, 104, 32)           1125728   \n",
            "_________________________________________________________________\n",
            "lstm (LSTM)                  (None, 104, 32)           8320      \n",
            "_________________________________________________________________\n",
            "time_distributed (TimeDistri (None, 104, 17)           561       \n",
            "=================================================================\n",
            "Total params: 1,134,609\n",
            "Trainable params: 1,134,609\n",
            "Non-trainable params: 0\n",
            "_________________________________________________________________\n"
          ],
          "name": "stdout"
        },
        {
          "output_type": "execute_result",
          "data": {
            "image/png": "[encoded data removed]",
            "text/plain": [
              "<IPython.core.display.Image object>"
            ]
          },
          "metadata": {
            "tags": []
          },
          "execution_count": 14
        }
      ]
    },
    {
      "cell_type": "code",
      "metadata": {
        "id": "KRgLdIxNdIvF",
        "outputId": "f09771ba-7d40-4f9e-e6a9-1df622fada96",
        "colab": {
          "base_uri": "https://localhost:8080/"
        }
      },
      "source": [
        "results = pd.DataFrame()#Creating dataframe\n",
        "results['with_add_lstm'] = train_model(train_tokens, np.array(train_tags), model_lstm)"
      ],
      "execution_count": 15,
      "outputs": [
        {
          "output_type": "stream",
          "text": [
            "31/31 [==============================] - 17s 563ms/step - loss: 1.3170 - accuracy: 0.8590 - val_loss: 0.3288 - val_accuracy: 0.9679\n",
            "31/31 [==============================] - 17s 563ms/step - loss: 0.3144 - accuracy: 0.9676 - val_loss: 0.2473 - val_accuracy: 0.9680\n",
            "31/31 [==============================] - 17s 561ms/step - loss: 0.2471 - accuracy: 0.9679 - val_loss: 0.1927 - val_accuracy: 0.9681\n",
            "31/31 [==============================] - 17s 555ms/step - loss: 0.2102 - accuracy: 0.9681 - val_loss: 0.1767 - val_accuracy: 0.9683\n",
            "31/31 [==============================] - 17s 544ms/step - loss: 0.1861 - accuracy: 0.9684 - val_loss: 0.1561 - val_accuracy: 0.9684\n",
            "31/31 [==============================] - 17s 548ms/step - loss: 0.1640 - accuracy: 0.9686 - val_loss: 0.1404 - val_accuracy: 0.9687\n",
            "31/31 [==============================] - 17s 545ms/step - loss: 0.1626 - accuracy: 0.9690 - val_loss: 0.1384 - val_accuracy: 0.9690\n",
            "31/31 [==============================] - 17s 547ms/step - loss: 0.1477 - accuracy: 0.9693 - val_loss: 0.1220 - val_accuracy: 0.9691\n",
            "31/31 [==============================] - 17s 541ms/step - loss: 0.1331 - accuracy: 0.9693 - val_loss: 0.1241 - val_accuracy: 0.9695\n",
            "31/31 [==============================] - 17s 534ms/step - loss: 0.1222 - accuracy: 0.9697 - val_loss: 0.1082 - val_accuracy: 0.9699\n"
          ],
          "name": "stdout"
        }
      ]
    },
    {
      "cell_type": "code",
      "metadata": {
        "id": "oYBS4YVPdPV2",
        "outputId": "9a32979d-bdeb-4586-a907-6a0248cd28b4",
        "colab": {
          "base_uri": "https://localhost:8080/",
          "height": 279
        }
      },
      "source": [
        "#Plot Loss vs Epochs\n",
        "plt.plot(results['with_add_lstm'])\n",
        "plt.xlabel('Epochs');\n",
        "plt.ylabel('Loss');"
      ],
      "execution_count": 16,
      "outputs": [
        {
          "output_type": "display_data",
          "data": {
            "image/png": "[encoded data removed]",
            "text/plain": [
              "<Figure size 432x288 with 1 Axes>"
            ]
          },
          "metadata": {
            "tags": [],
            "needs_background": "light"
          }
        }
      ]
    }
  ]
}