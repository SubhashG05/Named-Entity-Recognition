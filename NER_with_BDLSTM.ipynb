{
  "nbformat": 4,
  "nbformat_minor": 0,
  "metadata": {
    "colab": {
      "name": "NER with BDLSTM.ipynb",
      "provenance": [],
      "collapsed_sections": [],
      "toc_visible": true
    },
    "kernelspec": {
      "name": "python3",
      "display_name": "Python 3"
    },
    "accelerator": "GPU"
  },
  "cells": [
    {
      "cell_type": "markdown",
      "metadata": {
        "id": "91sXZNtML89U"
      },
      "source": [
        "#1.Load data"
      ]
    },
    {
      "cell_type": "code",
      "metadata": {
        "id": "2ZM-k5Ld-hX7"
      },
      "source": [
        "#Import packages required\n",
        "\n",
        "import pandas            as pd\n",
        "import numpy             as np\n",
        "import matplotlib.pyplot as plt\n",
        "import json\n",
        "import tensorflow\n",
        "\n",
        "from sklearn.model_selection      import train_test_split\n",
        "from keras.preprocessing.sequence import pad_sequences\n",
        "from keras.utils                  import to_categorical\n",
        "from tensorflow.keras             import Sequential, Model, Input\n",
        "from tensorflow.keras.layers      import LSTM, Embedding, Dense, TimeDistributed, Dropout, Bidirectional\n",
        "from tensorflow.keras.utils       import plot_model\n",
        "from numpy.random                 import seed\n",
        "seed(1)\n",
        "tensorflow.random.set_seed(2)"
      ],
      "execution_count": 1,
      "outputs": []
    },
    {
      "cell_type": "code",
      "metadata": {
        "id": "8Su9ksYJuDQX",
        "outputId": "3f34ce7b-92d7-4a53-b311-8f277bfec6c7",
        "colab": {
          "base_uri": "https://localhost:8080/"
        }
      },
      "source": [
        "#Download data from Kaggle\n",
        "\n",
        "!mkdir ~/.kaggle\n",
        "token = {\"username\":\"gugankailasam\",\"key\":\"7be55bcc2396ad6d025f6b7e2b3b53b0\"}\n",
        "\n",
        "with open('kaggle.json','w') as file:\n",
        "  json.dump(token,file)\n",
        "\n",
        "!cp ./kaggle.json ~/.kaggle/kaggle.json\n",
        "!chmod 600 /root/.kaggle/kaggle.json\n",
        "!kaggle datasets download -d abhinavwalia95/entity-annotated-corpus\n",
        "import zipfile\n",
        "with zipfile.ZipFile(\"entity-annotated-corpus.zip\",\"r\") as zip_ref:\n",
        "    zip_ref.extractall(\"data\")\n",
        "!ls"
      ],
      "execution_count": 2,
      "outputs": [
        {
          "output_type": "stream",
          "text": [
            "Downloading entity-annotated-corpus.zip to /content\n",
            " 95% 25.0M/26.4M [00:00<00:00, 52.6MB/s]\n",
            "100% 26.4M/26.4M [00:00<00:00, 105MB/s] \n",
            "data  entity-annotated-corpus.zip  kaggle.json\tsample_data\n"
          ],
          "name": "stdout"
        }
      ]
    },
    {
      "cell_type": "code",
      "metadata": {
        "id": "xabeAr1uMA_F",
        "outputId": "be451348-d8ee-4bef-b974-00cb3801d158",
        "colab": {
          "base_uri": "https://localhost:8080/",
          "height": 359
        }
      },
      "source": [
        "data = pd.read_csv('/content/data/ner_dataset.csv', encoding= 'unicode_escape')#data//ner_dataset.csv\n",
        "data.head(10)"
      ],
      "execution_count": 3,
      "outputs": [
        {
          "output_type": "execute_result",
          "data": {
            "text/html": [
              "<div>\n",
              "<style scoped>\n",
              "    .dataframe tbody tr th:only-of-type {\n",
              "        vertical-align: middle;\n",
              "    }\n",
              "\n",
              "    .dataframe tbody tr th {\n",
              "        vertical-align: top;\n",
              "    }\n",
              "\n",
              "    .dataframe thead th {\n",
              "        text-align: right;\n",
              "    }\n",
              "</style>\n",
              "<table border=\"1\" class=\"dataframe\">\n",
              "  <thead>\n",
              "    <tr style=\"text-align: right;\">\n",
              "      <th></th>\n",
              "      <th>Sentence #</th>\n",
              "      <th>Word</th>\n",
              "      <th>POS</th>\n",
              "      <th>Tag</th>\n",
              "    </tr>\n",
              "  </thead>\n",
              "  <tbody>\n",
              "    <tr>\n",
              "      <th>0</th>\n",
              "      <td>Sentence: 1</td>\n",
              "      <td>Thousands</td>\n",
              "      <td>NNS</td>\n",
              "      <td>O</td>\n",
              "    </tr>\n",
              "    <tr>\n",
              "      <th>1</th>\n",
              "      <td>NaN</td>\n",
              "      <td>of</td>\n",
              "      <td>IN</td>\n",
              "      <td>O</td>\n",
              "    </tr>\n",
              "    <tr>\n",
              "      <th>2</th>\n",
              "      <td>NaN</td>\n",
              "      <td>demonstrators</td>\n",
              "      <td>NNS</td>\n",
              "      <td>O</td>\n",
              "    </tr>\n",
              "    <tr>\n",
              "      <th>3</th>\n",
              "      <td>NaN</td>\n",
              "      <td>have</td>\n",
              "      <td>VBP</td>\n",
              "      <td>O</td>\n",
              "    </tr>\n",
              "    <tr>\n",
              "      <th>4</th>\n",
              "      <td>NaN</td>\n",
              "      <td>marched</td>\n",
              "      <td>VBN</td>\n",
              "      <td>O</td>\n",
              "    </tr>\n",
              "    <tr>\n",
              "      <th>5</th>\n",
              "      <td>NaN</td>\n",
              "      <td>through</td>\n",
              "      <td>IN</td>\n",
              "      <td>O</td>\n",
              "    </tr>\n",
              "    <tr>\n",
              "      <th>6</th>\n",
              "      <td>NaN</td>\n",
              "      <td>London</td>\n",
              "      <td>NNP</td>\n",
              "      <td>B-geo</td>\n",
              "    </tr>\n",
              "    <tr>\n",
              "      <th>7</th>\n",
              "      <td>NaN</td>\n",
              "      <td>to</td>\n",
              "      <td>TO</td>\n",
              "      <td>O</td>\n",
              "    </tr>\n",
              "    <tr>\n",
              "      <th>8</th>\n",
              "      <td>NaN</td>\n",
              "      <td>protest</td>\n",
              "      <td>VB</td>\n",
              "      <td>O</td>\n",
              "    </tr>\n",
              "    <tr>\n",
              "      <th>9</th>\n",
              "      <td>NaN</td>\n",
              "      <td>the</td>\n",
              "      <td>DT</td>\n",
              "      <td>O</td>\n",
              "    </tr>\n",
              "  </tbody>\n",
              "</table>\n",
              "</div>"
            ],
            "text/plain": [
              "    Sentence #           Word  POS    Tag\n",
              "0  Sentence: 1      Thousands  NNS      O\n",
              "1          NaN             of   IN      O\n",
              "2          NaN  demonstrators  NNS      O\n",
              "3          NaN           have  VBP      O\n",
              "4          NaN        marched  VBN      O\n",
              "5          NaN        through   IN      O\n",
              "6          NaN         London  NNP  B-geo\n",
              "7          NaN             to   TO      O\n",
              "8          NaN        protest   VB      O\n",
              "9          NaN            the   DT      O"
            ]
          },
          "metadata": {
            "tags": []
          },
          "execution_count": 3
        }
      ]
    },
    {
      "cell_type": "code",
      "metadata": {
        "id": "EWpXKJhKMIYt",
        "outputId": "666b01c0-9534-40a2-fce6-94d50a880f7f",
        "colab": {
          "base_uri": "https://localhost:8080/"
        }
      },
      "source": [
        "data.shape"
      ],
      "execution_count": 4,
      "outputs": [
        {
          "output_type": "execute_result",
          "data": {
            "text/plain": [
              "(1048575, 4)"
            ]
          },
          "metadata": {
            "tags": []
          },
          "execution_count": 4
        }
      ]
    },
    {
      "cell_type": "markdown",
      "metadata": {
        "id": "_Krvb8LwMPIx"
      },
      "source": [
        "#2. Extract mappings required for the neural network"
      ]
    },
    {
      "cell_type": "code",
      "metadata": {
        "id": "ZG8_qLKaMIz3"
      },
      "source": [
        "#Generating id's to Word and Tag features\n",
        "def get_dict_map(data, token_or_tag):\n",
        "    tok2idx = {}\n",
        "    idx2tok = {}\n",
        "    \n",
        "    if token_or_tag == 'token':\n",
        "        vocab = list(set(data['Word'].to_list()))\n",
        "    else:\n",
        "        vocab = list(set(data['Tag'].to_list()))\n",
        "    \n",
        "    idx2tok = {idx:tok for  idx, tok in enumerate(vocab)}\n",
        "    tok2idx = {tok:idx for  idx, tok in enumerate(vocab)}\n",
        "    return tok2idx, idx2tok\n",
        "\n",
        "\n",
        "token2idx, idx2token = get_dict_map(data, 'token')\n",
        "tag2idx, idx2tag = get_dict_map(data, 'tag')"
      ],
      "execution_count": 5,
      "outputs": []
    },
    {
      "cell_type": "code",
      "metadata": {
        "id": "cTpvSJpMMJIe"
      },
      "source": [
        "data['Word_idx'] = data['Word'].map(token2idx)\n",
        "data['Tag_idx'] = data['Tag'].map(tag2idx)"
      ],
      "execution_count": 6,
      "outputs": []
    },
    {
      "cell_type": "code",
      "metadata": {
        "id": "6ScfvZ2FMJjA",
        "outputId": "d8901cd1-924a-46c0-c3b4-3b460025b3fc",
        "colab": {
          "base_uri": "https://localhost:8080/",
          "height": 359
        }
      },
      "source": [
        "data.head(10)"
      ],
      "execution_count": 7,
      "outputs": [
        {
          "output_type": "execute_result",
          "data": {
            "text/html": [
              "<div>\n",
              "<style scoped>\n",
              "    .dataframe tbody tr th:only-of-type {\n",
              "        vertical-align: middle;\n",
              "    }\n",
              "\n",
              "    .dataframe tbody tr th {\n",
              "        vertical-align: top;\n",
              "    }\n",
              "\n",
              "    .dataframe thead th {\n",
              "        text-align: right;\n",
              "    }\n",
              "</style>\n",
              "<table border=\"1\" class=\"dataframe\">\n",
              "  <thead>\n",
              "    <tr style=\"text-align: right;\">\n",
              "      <th></th>\n",
              "      <th>Sentence #</th>\n",
              "      <th>Word</th>\n",
              "      <th>POS</th>\n",
              "      <th>Tag</th>\n",
              "      <th>Word_idx</th>\n",
              "      <th>Tag_idx</th>\n",
              "    </tr>\n",
              "  </thead>\n",
              "  <tbody>\n",
              "    <tr>\n",
              "      <th>0</th>\n",
              "      <td>Sentence: 1</td>\n",
              "      <td>Thousands</td>\n",
              "      <td>NNS</td>\n",
              "      <td>O</td>\n",
              "      <td>11317</td>\n",
              "      <td>2</td>\n",
              "    </tr>\n",
              "    <tr>\n",
              "      <th>1</th>\n",
              "      <td>NaN</td>\n",
              "      <td>of</td>\n",
              "      <td>IN</td>\n",
              "      <td>O</td>\n",
              "      <td>25204</td>\n",
              "      <td>2</td>\n",
              "    </tr>\n",
              "    <tr>\n",
              "      <th>2</th>\n",
              "      <td>NaN</td>\n",
              "      <td>demonstrators</td>\n",
              "      <td>NNS</td>\n",
              "      <td>O</td>\n",
              "      <td>27200</td>\n",
              "      <td>2</td>\n",
              "    </tr>\n",
              "    <tr>\n",
              "      <th>3</th>\n",
              "      <td>NaN</td>\n",
              "      <td>have</td>\n",
              "      <td>VBP</td>\n",
              "      <td>O</td>\n",
              "      <td>6132</td>\n",
              "      <td>2</td>\n",
              "    </tr>\n",
              "    <tr>\n",
              "      <th>4</th>\n",
              "      <td>NaN</td>\n",
              "      <td>marched</td>\n",
              "      <td>VBN</td>\n",
              "      <td>O</td>\n",
              "      <td>33406</td>\n",
              "      <td>2</td>\n",
              "    </tr>\n",
              "    <tr>\n",
              "      <th>5</th>\n",
              "      <td>NaN</td>\n",
              "      <td>through</td>\n",
              "      <td>IN</td>\n",
              "      <td>O</td>\n",
              "      <td>28857</td>\n",
              "      <td>2</td>\n",
              "    </tr>\n",
              "    <tr>\n",
              "      <th>6</th>\n",
              "      <td>NaN</td>\n",
              "      <td>London</td>\n",
              "      <td>NNP</td>\n",
              "      <td>B-geo</td>\n",
              "      <td>22796</td>\n",
              "      <td>9</td>\n",
              "    </tr>\n",
              "    <tr>\n",
              "      <th>7</th>\n",
              "      <td>NaN</td>\n",
              "      <td>to</td>\n",
              "      <td>TO</td>\n",
              "      <td>O</td>\n",
              "      <td>11237</td>\n",
              "      <td>2</td>\n",
              "    </tr>\n",
              "    <tr>\n",
              "      <th>8</th>\n",
              "      <td>NaN</td>\n",
              "      <td>protest</td>\n",
              "      <td>VB</td>\n",
              "      <td>O</td>\n",
              "      <td>2690</td>\n",
              "      <td>2</td>\n",
              "    </tr>\n",
              "    <tr>\n",
              "      <th>9</th>\n",
              "      <td>NaN</td>\n",
              "      <td>the</td>\n",
              "      <td>DT</td>\n",
              "      <td>O</td>\n",
              "      <td>28564</td>\n",
              "      <td>2</td>\n",
              "    </tr>\n",
              "  </tbody>\n",
              "</table>\n",
              "</div>"
            ],
            "text/plain": [
              "    Sentence #           Word  POS    Tag  Word_idx  Tag_idx\n",
              "0  Sentence: 1      Thousands  NNS      O     11317        2\n",
              "1          NaN             of   IN      O     25204        2\n",
              "2          NaN  demonstrators  NNS      O     27200        2\n",
              "3          NaN           have  VBP      O      6132        2\n",
              "4          NaN        marched  VBN      O     33406        2\n",
              "5          NaN        through   IN      O     28857        2\n",
              "6          NaN         London  NNP  B-geo     22796        9\n",
              "7          NaN             to   TO      O     11237        2\n",
              "8          NaN        protest   VB      O      2690        2\n",
              "9          NaN            the   DT      O     28564        2"
            ]
          },
          "metadata": {
            "tags": []
          },
          "execution_count": 7
        }
      ]
    },
    {
      "cell_type": "markdown",
      "metadata": {
        "id": "UdnuyoSkMgcV"
      },
      "source": [
        "#3. Transform columns to extract sequential data"
      ]
    },
    {
      "cell_type": "code",
      "metadata": {
        "id": "FCsqW_GeMKhQ",
        "outputId": "72f2e1eb-9f42-4155-edd9-ee739739ab2e",
        "colab": {
          "base_uri": "https://localhost:8080/"
        }
      },
      "source": [
        "data.isna().any()#Check for null values"
      ],
      "execution_count": 8,
      "outputs": [
        {
          "output_type": "execute_result",
          "data": {
            "text/plain": [
              "Sentence #     True\n",
              "Word          False\n",
              "POS           False\n",
              "Tag           False\n",
              "Word_idx      False\n",
              "Tag_idx       False\n",
              "dtype: bool"
            ]
          },
          "metadata": {
            "tags": []
          },
          "execution_count": 8
        }
      ]
    },
    {
      "cell_type": "code",
      "metadata": {
        "id": "uxdmWkPFMlhV",
        "outputId": "7fe8cb00-061f-434c-ae0b-9fee856fac27",
        "colab": {
          "base_uri": "https://localhost:8080/",
          "height": 617
        }
      },
      "source": [
        "data_fillna = data.fillna(method='ffill', axis=0)\n",
        "data_group = data_fillna.groupby(['Sentence #'],as_index=False\n",
        "                                )['Word', 'POS', 'Tag', 'Word_idx', 'Tag_idx'].agg(lambda x: list(x))\n",
        "\n",
        "data_group.head(10)"
      ],
      "execution_count": 9,
      "outputs": [
        {
          "output_type": "stream",
          "text": [
            "/usr/local/lib/python3.6/dist-packages/ipykernel_launcher.py:3: FutureWarning: Indexing with multiple keys (implicitly converted to a tuple of keys) will be deprecated, use a list instead.\n",
            "  This is separate from the ipykernel package so we can avoid doing imports until\n"
          ],
          "name": "stderr"
        },
        {
          "output_type": "execute_result",
          "data": {
            "text/html": [
              "<div>\n",
              "<style scoped>\n",
              "    .dataframe tbody tr th:only-of-type {\n",
              "        vertical-align: middle;\n",
              "    }\n",
              "\n",
              "    .dataframe tbody tr th {\n",
              "        vertical-align: top;\n",
              "    }\n",
              "\n",
              "    .dataframe thead th {\n",
              "        text-align: right;\n",
              "    }\n",
              "</style>\n",
              "<table border=\"1\" class=\"dataframe\">\n",
              "  <thead>\n",
              "    <tr style=\"text-align: right;\">\n",
              "      <th></th>\n",
              "      <th>Sentence #</th>\n",
              "      <th>Word</th>\n",
              "      <th>POS</th>\n",
              "      <th>Tag</th>\n",
              "      <th>Word_idx</th>\n",
              "      <th>Tag_idx</th>\n",
              "    </tr>\n",
              "  </thead>\n",
              "  <tbody>\n",
              "    <tr>\n",
              "      <th>0</th>\n",
              "      <td>Sentence: 1</td>\n",
              "      <td>[Thousands, of, demonstrators, have, marched, ...</td>\n",
              "      <td>[NNS, IN, NNS, VBP, VBN, IN, NNP, TO, VB, DT, ...</td>\n",
              "      <td>[O, O, O, O, O, O, B-geo, O, O, O, O, O, B-geo...</td>\n",
              "      <td>[11317, 25204, 27200, 6132, 33406, 28857, 2279...</td>\n",
              "      <td>[2, 2, 2, 2, 2, 2, 9, 2, 2, 2, 2, 2, 9, 2, 2, ...</td>\n",
              "    </tr>\n",
              "    <tr>\n",
              "      <th>1</th>\n",
              "      <td>Sentence: 10</td>\n",
              "      <td>[Iranian, officials, say, they, expect, to, ge...</td>\n",
              "      <td>[JJ, NNS, VBP, PRP, VBP, TO, VB, NN, TO, JJ, J...</td>\n",
              "      <td>[B-gpe, O, O, O, O, O, O, O, O, O, O, O, O, O,...</td>\n",
              "      <td>[13028, 24358, 10352, 13638, 7067, 11237, 9945...</td>\n",
              "      <td>[10, 2, 2, 2, 2, 2, 2, 2, 2, 2, 2, 2, 2, 2, 2,...</td>\n",
              "    </tr>\n",
              "    <tr>\n",
              "      <th>2</th>\n",
              "      <td>Sentence: 100</td>\n",
              "      <td>[Helicopter, gunships, Saturday, pounded, mili...</td>\n",
              "      <td>[NN, NNS, NNP, VBD, JJ, NNS, IN, DT, NNP, JJ, ...</td>\n",
              "      <td>[O, O, B-tim, O, O, O, O, O, B-geo, O, O, O, O...</td>\n",
              "      <td>[20821, 32960, 14034, 32613, 1572, 27176, 2747...</td>\n",
              "      <td>[2, 2, 1, 2, 2, 2, 2, 2, 9, 2, 2, 2, 2, 2, 14,...</td>\n",
              "    </tr>\n",
              "    <tr>\n",
              "      <th>3</th>\n",
              "      <td>Sentence: 1000</td>\n",
              "      <td>[They, left, after, a, tense, hour-long, stand...</td>\n",
              "      <td>[PRP, VBD, IN, DT, NN, JJ, NN, IN, NN, NNS, .]</td>\n",
              "      <td>[O, O, O, O, O, O, O, O, O, O, O]</td>\n",
              "      <td>[8696, 14810, 209, 20204, 4503, 14279, 29943, ...</td>\n",
              "      <td>[2, 2, 2, 2, 2, 2, 2, 2, 2, 2, 2]</td>\n",
              "    </tr>\n",
              "    <tr>\n",
              "      <th>4</th>\n",
              "      <td>Sentence: 10000</td>\n",
              "      <td>[U.N., relief, coordinator, Jan, Egeland, said...</td>\n",
              "      <td>[NNP, NN, NN, NNP, NNP, VBD, NNP, ,, NNP, ,, J...</td>\n",
              "      <td>[B-geo, O, O, B-per, I-per, O, B-tim, O, B-geo...</td>\n",
              "      <td>[1174, 16527, 2876, 2281, 27799, 25690, 15246,...</td>\n",
              "      <td>[9, 2, 2, 6, 11, 2, 1, 2, 9, 2, 10, 2, 10, 2, ...</td>\n",
              "    </tr>\n",
              "    <tr>\n",
              "      <th>5</th>\n",
              "      <td>Sentence: 10001</td>\n",
              "      <td>[Mr., Egeland, said, the, latest, figures, sho...</td>\n",
              "      <td>[NNP, NNP, VBD, DT, JJS, NNS, VBP, CD, CD, NNS...</td>\n",
              "      <td>[B-per, I-per, O, O, O, O, O, O, O, O, O, O, O...</td>\n",
              "      <td>[6623, 27799, 25690, 28564, 13571, 29151, 1696...</td>\n",
              "      <td>[6, 11, 2, 2, 2, 2, 2, 2, 2, 2, 2, 2, 2, 2, 2,...</td>\n",
              "    </tr>\n",
              "    <tr>\n",
              "      <th>6</th>\n",
              "      <td>Sentence: 10002</td>\n",
              "      <td>[He, said, last, week, 's, tsunami, and, the, ...</td>\n",
              "      <td>[PRP, VBD, JJ, NN, POS, NN, CC, DT, JJ, NN, NN...</td>\n",
              "      <td>[O, O, O, O, O, O, O, O, O, O, O, O, O, O, O, ...</td>\n",
              "      <td>[29002, 25690, 6368, 15907, 9257, 33084, 15769...</td>\n",
              "      <td>[2, 2, 2, 2, 2, 2, 2, 2, 2, 2, 2, 2, 2, 2, 2, ...</td>\n",
              "    </tr>\n",
              "    <tr>\n",
              "      <th>7</th>\n",
              "      <td>Sentence: 10003</td>\n",
              "      <td>[Some, 1,27,000, people, are, known, dead, .]</td>\n",
              "      <td>[DT, CD, NNS, VBP, VBN, JJ, .]</td>\n",
              "      <td>[O, O, O, O, O, O, O]</td>\n",
              "      <td>[14748, 28227, 21102, 8278, 6565, 33665, 25075]</td>\n",
              "      <td>[2, 2, 2, 2, 2, 2, 2]</td>\n",
              "    </tr>\n",
              "    <tr>\n",
              "      <th>8</th>\n",
              "      <td>Sentence: 10004</td>\n",
              "      <td>[Aid, is, being, rushed, to, the, region, ,, b...</td>\n",
              "      <td>[NNP, VBZ, VBG, VBN, TO, DT, NN, ,, CC, DT, NN...</td>\n",
              "      <td>[O, O, O, O, O, O, O, O, O, O, B-geo, O, O, O,...</td>\n",
              "      <td>[1813, 29394, 24105, 16959, 11237, 28564, 2455...</td>\n",
              "      <td>[2, 2, 2, 2, 2, 2, 2, 2, 2, 2, 9, 2, 2, 2, 2, ...</td>\n",
              "    </tr>\n",
              "    <tr>\n",
              "      <th>9</th>\n",
              "      <td>Sentence: 10005</td>\n",
              "      <td>[Lebanese, politicians, are, condemning, Frida...</td>\n",
              "      <td>[JJ, NNS, VBP, VBG, NNP, POS, NN, NN, IN, DT, ...</td>\n",
              "      <td>[B-gpe, O, O, O, B-tim, O, O, O, O, O, O, O, O...</td>\n",
              "      <td>[11482, 26140, 8278, 25753, 31486, 9257, 367, ...</td>\n",
              "      <td>[10, 2, 2, 2, 1, 2, 2, 2, 2, 2, 2, 2, 2, 9, 2,...</td>\n",
              "    </tr>\n",
              "  </tbody>\n",
              "</table>\n",
              "</div>"
            ],
            "text/plain": [
              "        Sentence #  ...                                            Tag_idx\n",
              "0      Sentence: 1  ...  [2, 2, 2, 2, 2, 2, 9, 2, 2, 2, 2, 2, 9, 2, 2, ...\n",
              "1     Sentence: 10  ...  [10, 2, 2, 2, 2, 2, 2, 2, 2, 2, 2, 2, 2, 2, 2,...\n",
              "2    Sentence: 100  ...  [2, 2, 1, 2, 2, 2, 2, 2, 9, 2, 2, 2, 2, 2, 14,...\n",
              "3   Sentence: 1000  ...                  [2, 2, 2, 2, 2, 2, 2, 2, 2, 2, 2]\n",
              "4  Sentence: 10000  ...  [9, 2, 2, 6, 11, 2, 1, 2, 9, 2, 10, 2, 10, 2, ...\n",
              "5  Sentence: 10001  ...  [6, 11, 2, 2, 2, 2, 2, 2, 2, 2, 2, 2, 2, 2, 2,...\n",
              "6  Sentence: 10002  ...  [2, 2, 2, 2, 2, 2, 2, 2, 2, 2, 2, 2, 2, 2, 2, ...\n",
              "7  Sentence: 10003  ...                              [2, 2, 2, 2, 2, 2, 2]\n",
              "8  Sentence: 10004  ...  [2, 2, 2, 2, 2, 2, 2, 2, 2, 2, 9, 2, 2, 2, 2, ...\n",
              "9  Sentence: 10005  ...  [10, 2, 2, 2, 1, 2, 2, 2, 2, 2, 2, 2, 2, 9, 2,...\n",
              "\n",
              "[10 rows x 6 columns]"
            ]
          },
          "metadata": {
            "tags": []
          },
          "execution_count": 9
        }
      ]
    },
    {
      "cell_type": "markdown",
      "metadata": {
        "id": "8BTT4MDOMvDQ"
      },
      "source": [
        "#4. Pad sequences and split the dataset into train, test"
      ]
    },
    {
      "cell_type": "code",
      "metadata": {
        "id": "FD2SbvGsMpX9",
        "outputId": "b7186ffc-74dd-4468-ec47-ad1252cb67b7",
        "colab": {
          "base_uri": "https://localhost:8080/"
        }
      },
      "source": [
        "#Splitting data into train_tokens, test_tokens, train_tags, test_tags\n",
        "def get_pad_train_test_val(data_group, data):\n",
        "    n_token = len(list(set(data['Word'].to_list())))\n",
        "    n_tag = len(list(set(data['Tag'].to_list())))\n",
        "    \n",
        "    tokens = data_group['Word_idx'].tolist()\n",
        "    maxlen = max([len(s) for s in tokens])\n",
        "    pad_tokens = pad_sequences(tokens, maxlen=maxlen, dtype='int32', padding='post', value= n_token - 1)\n",
        "    \n",
        "    tags = data_group['Tag_idx'].tolist()\n",
        "    pad_tags = pad_sequences(tags, maxlen=maxlen, dtype='int32', padding='post', value= tag2idx[\"O\"])\n",
        "    \n",
        "    n_tags = len(tag2idx)\n",
        "    pad_tags = [to_categorical(i, num_classes=n_tags) for i in pad_tags]\n",
        "    \n",
        "    \n",
        "    train_tokens, test_tokens, train_tags, test_tags = train_test_split(pad_tokens, pad_tags, test_size=0.2, train_size=0.8, random_state=2020)\n",
        "\n",
        "    print(\n",
        "        'train_tokens length:', len(train_tokens),\n",
        "        '\\ntest_tokens length:', len(test_tokens),\n",
        "        '\\ntrain_tags:', len(train_tags),\n",
        "        '\\ntest_tags:', len(test_tags)\n",
        "    )\n",
        "    \n",
        "    return train_tokens, test_tokens, train_tags, test_tags\n",
        "\n",
        "train_tokens, test_tokens, train_tags, test_tags = get_pad_train_test_val(data_group, data)"
      ],
      "execution_count": 10,
      "outputs": [
        {
          "output_type": "stream",
          "text": [
            "train_tokens length: 38367 \n",
            "test_tokens length: 9592 \n",
            "train_tags: 38367 \n",
            "test_tags: 9592\n"
          ],
          "name": "stdout"
        }
      ]
    },
    {
      "cell_type": "markdown",
      "metadata": {
        "id": "mHGa41enNCH8"
      },
      "source": [
        "#5. Build Model Layout"
      ]
    },
    {
      "cell_type": "code",
      "metadata": {
        "id": "H26kDu1lNJJU",
        "outputId": "b2611d26-dc87-4d1e-a421-2f294fff8abe",
        "colab": {
          "base_uri": "https://localhost:8080/"
        }
      },
      "source": [
        "#Checking input, output dimensions\n",
        "input_dim = len(list(set(data['Word'].to_list())))+1\n",
        "output_dim = 32\n",
        "input_length = max([len(s) for s in data_group['Word_idx'].tolist()])\n",
        "n_tags = len(tag2idx)\n",
        "print('input_dim: ', input_dim, '\\noutput_dim: ', output_dim, '\\ninput_length: ', input_length, '\\nn_tags: ', n_tags)"
      ],
      "execution_count": 11,
      "outputs": [
        {
          "output_type": "stream",
          "text": [
            "input_dim:  35179 \n",
            "output_dim:  32 \n",
            "input_length:  104 \n",
            "n_tags:  17\n"
          ],
          "name": "stdout"
        }
      ]
    },
    {
      "cell_type": "code",
      "metadata": {
        "id": "6vi25S0zJOEH"
      },
      "source": [
        "#Building the model\n",
        "def get_bilstm_model():\n",
        "    model = Sequential()\n",
        "\n",
        "    # Add Embedding layer\n",
        "    model.add(Embedding(input_dim=input_dim, output_dim=output_dim, input_length=input_length))\n",
        "    # Add bidirectional LSTM\n",
        "    model.add(Bidirectional(LSTM(units=output_dim, return_sequences=True, dropout=0.2, recurrent_dropout=0.2), merge_mode = 'concat'))\n",
        "    # Add timeDistributed Layer\n",
        "    model.add(TimeDistributed(Dense(n_tags, activation=\"relu\")))\n",
        "    # Compile model\n",
        "    model.compile(loss='categorical_crossentropy', optimizer='adam', metrics=['accuracy'])\n",
        "    model.summary()\n",
        "    \n",
        "    return model"
      ],
      "execution_count": 12,
      "outputs": []
    },
    {
      "cell_type": "code",
      "metadata": {
        "id": "pGvfFjceNW2-",
        "outputId": "58f49670-e29a-4408-f628-7e45e43a6939",
        "colab": {
          "base_uri": "https://localhost:8080/",
          "height": 678
        }
      },
      "source": [
        "#Training the model\n",
        "def train_model(X, y, model):\n",
        "    loss = list()\n",
        "    for _ in range(10):\n",
        "        # fit model for one epoch on this sequence\n",
        "        hist = model.fit(X, y, batch_size=1000, verbose=1, epochs=1, validation_split= 0.2)\n",
        "        loss.append(hist.history['loss'][0])\n",
        "    return loss\n",
        "\n",
        "model_bilstm = get_bilstm_model()\n",
        "plot_model(model_bilstm)#Ploting model to observe its components"
      ],
      "execution_count": 13,
      "outputs": [
        {
          "output_type": "stream",
          "text": [
            "WARNING:tensorflow:Layer lstm will not use cuDNN kernel since it doesn't meet the cuDNN kernel criteria. It will use generic GPU kernel as fallback when running on GPU\n",
            "WARNING:tensorflow:Layer lstm will not use cuDNN kernel since it doesn't meet the cuDNN kernel criteria. It will use generic GPU kernel as fallback when running on GPU\n",
            "WARNING:tensorflow:Layer lstm will not use cuDNN kernel since it doesn't meet the cuDNN kernel criteria. It will use generic GPU kernel as fallback when running on GPU\n",
            "Model: \"sequential\"\n",
            "_________________________________________________________________\n",
            "Layer (type)                 Output Shape              Param #   \n",
            "=================================================================\n",
            "embedding (Embedding)        (None, 104, 32)           1125728   \n",
            "_________________________________________________________________\n",
            "bidirectional (Bidirectional (None, 104, 64)           16640     \n",
            "_________________________________________________________________\n",
            "time_distributed (TimeDistri (None, 104, 17)           1105      \n",
            "=================================================================\n",
            "Total params: 1,143,473\n",
            "Trainable params: 1,143,473\n",
            "Non-trainable params: 0\n",
            "_________________________________________________________________\n"
          ],
          "name": "stdout"
        },
        {
          "output_type": "execute_result",
          "data": {
            "image/png": "[encoded data removed]",
            "text/plain": [
              "<IPython.core.display.Image object>"
            ]
          },
          "metadata": {
            "tags": []
          },
          "execution_count": 13
        }
      ]
    },
    {
      "cell_type": "code",
      "metadata": {
        "id": "s__CN-NmNdxc",
        "outputId": "e0f2e5ea-9f6d-44ef-8207-398278947feb",
        "colab": {
          "base_uri": "https://localhost:8080/"
        }
      },
      "source": [
        "results = pd.DataFrame()#Creating dataframe\n",
        "results['with_add_lstm'] = train_model(train_tokens, np.array(train_tags), model_bilstm)"
      ],
      "execution_count": 14,
      "outputs": [
        {
          "output_type": "stream",
          "text": [
            "31/31 [==============================] - 25s 797ms/step - loss: 0.8202 - accuracy: 0.8857 - val_loss: 0.4018 - val_accuracy: 0.9680\n",
            "31/31 [==============================] - 25s 804ms/step - loss: 0.3163 - accuracy: 0.9677 - val_loss: 0.2384 - val_accuracy: 0.9680\n",
            "31/31 [==============================] - 24s 779ms/step - loss: 0.2059 - accuracy: 0.9677 - val_loss: 0.1634 - val_accuracy: 0.9680\n",
            "31/31 [==============================] - 23s 757ms/step - loss: 0.1500 - accuracy: 0.9677 - val_loss: 0.1381 - val_accuracy: 0.9680\n",
            "31/31 [==============================] - 24s 767ms/step - loss: 0.1279 - accuracy: 0.9677 - val_loss: 0.1222 - val_accuracy: 0.9680\n",
            "31/31 [==============================] - 24s 773ms/step - loss: 0.1120 - accuracy: 0.9677 - val_loss: 0.1178 - val_accuracy: 0.9680\n",
            "31/31 [==============================] - 24s 772ms/step - loss: 0.1016 - accuracy: 0.9678 - val_loss: 0.1084 - val_accuracy: 0.9680\n",
            "31/31 [==============================] - 24s 767ms/step - loss: 0.0941 - accuracy: 0.9679 - val_loss: 0.1044 - val_accuracy: 0.9682\n",
            "31/31 [==============================] - 23s 754ms/step - loss: 0.0885 - accuracy: 0.9681 - val_loss: 0.1026 - val_accuracy: 0.9684\n",
            "31/31 [==============================] - 24s 764ms/step - loss: 0.0828 - accuracy: 0.9685 - val_loss: 0.1007 - val_accuracy: 0.9688\n"
          ],
          "name": "stdout"
        }
      ]
    },
    {
      "cell_type": "code",
      "metadata": {
        "id": "Sq_LDJN1Nemk",
        "outputId": "5d494c60-f9d0-4b09-97b6-add8f293d3a9",
        "colab": {
          "base_uri": "https://localhost:8080/",
          "height": 296
        }
      },
      "source": [
        "#Plot Loss vs Epochs\n",
        "plt.plot(results['with_add_lstm'])\n",
        "plt.xlabel('Epochs')\n",
        "plt.ylabel('Loss')"
      ],
      "execution_count": 15,
      "outputs": [
        {
          "output_type": "execute_result",
          "data": {
            "text/plain": [
              "Text(0, 0.5, 'Loss')"
            ]
          },
          "metadata": {
            "tags": []
          },
          "execution_count": 15
        },
        {
          "output_type": "display_data",
          "data": {
            "image/png": "[encoded data removed]",
            "text/plain": [
              "<Figure size 432x288 with 1 Axes>"
            ]
          },
          "metadata": {
            "tags": [],
            "needs_background": "light"
          }
        }
      ]
    }
  ]
}